{
  "nbformat": 4,
  "nbformat_minor": 0,
  "metadata": {
    "colab": {
      "name": "training.ipynb",
      "provenance": [],
      "collapsed_sections": [],
      "machine_shape": "hm",
      "mount_file_id": "1OeaLDRlOsD0VijTQlOk3ehrJioxJ_y8a",
      "authorship_tag": "ABX9TyNQpfEF45ygtJNjR1oCxNaz",
      "include_colab_link": true
    },
    "kernelspec": {
      "name": "python3",
      "display_name": "Python 3"
    },
    "language_info": {
      "name": "python"
    },
    "accelerator": "GPU",
    "widgets": {
      "application/vnd.jupyter.widget-state+json": {
        "60856010304342a8b617a4ddb954fe3b": {
          "model_module": "@jupyter-widgets/controls",
          "model_name": "HBoxModel",
          "state": {
            "_view_name": "HBoxView",
            "_dom_classes": [],
            "_model_name": "HBoxModel",
            "_view_module": "@jupyter-widgets/controls",
            "_model_module_version": "1.5.0",
            "_view_count": null,
            "_view_module_version": "1.5.0",
            "box_style": "",
            "layout": "IPY_MODEL_f2b96eaaee324881b1964fa67f13a1b8",
            "_model_module": "@jupyter-widgets/controls",
            "children": [
              "IPY_MODEL_3a328f5f12ac413e925e8126a81a6eba",
              "IPY_MODEL_76f9451b4efe4189b0eb068bd2d28843"
            ]
          }
        },
        "f2b96eaaee324881b1964fa67f13a1b8": {
          "model_module": "@jupyter-widgets/base",
          "model_name": "LayoutModel",
          "state": {
            "_view_name": "LayoutView",
            "grid_template_rows": null,
            "right": null,
            "justify_content": null,
            "_view_module": "@jupyter-widgets/base",
            "overflow": null,
            "_model_module_version": "1.2.0",
            "_view_count": null,
            "flex_flow": "row wrap",
            "width": "100%",
            "min_width": null,
            "border": null,
            "align_items": null,
            "bottom": null,
            "_model_module": "@jupyter-widgets/base",
            "top": null,
            "grid_column": null,
            "overflow_y": null,
            "overflow_x": null,
            "grid_auto_flow": null,
            "grid_area": null,
            "grid_template_columns": null,
            "flex": null,
            "_model_name": "LayoutModel",
            "justify_items": null,
            "grid_row": null,
            "max_height": null,
            "align_content": null,
            "visibility": null,
            "align_self": null,
            "height": null,
            "min_height": null,
            "padding": null,
            "grid_auto_rows": null,
            "grid_gap": null,
            "max_width": null,
            "order": null,
            "_view_module_version": "1.2.0",
            "grid_template_areas": null,
            "object_position": null,
            "object_fit": null,
            "grid_auto_columns": null,
            "margin": null,
            "display": "inline-flex",
            "left": null
          }
        },
        "3a328f5f12ac413e925e8126a81a6eba": {
          "model_module": "@jupyter-widgets/controls",
          "model_name": "FloatProgressModel",
          "state": {
            "_view_name": "ProgressView",
            "style": "IPY_MODEL_766c2d0fdff84391994f3b2be9b05d82",
            "_dom_classes": [],
            "description": "Validation sanity check:   0%",
            "_model_name": "FloatProgressModel",
            "bar_style": "danger",
            "max": 2,
            "_view_module": "@jupyter-widgets/controls",
            "_model_module_version": "1.5.0",
            "value": 0,
            "_view_count": null,
            "_view_module_version": "1.5.0",
            "orientation": "horizontal",
            "min": 0,
            "description_tooltip": null,
            "_model_module": "@jupyter-widgets/controls",
            "layout": "IPY_MODEL_b12b97656c584bdb895c409c93939ac0"
          }
        },
        "76f9451b4efe4189b0eb068bd2d28843": {
          "model_module": "@jupyter-widgets/controls",
          "model_name": "HTMLModel",
          "state": {
            "_view_name": "HTMLView",
            "style": "IPY_MODEL_db6ae088d5e340bd948bc33d68f19799",
            "_dom_classes": [],
            "description": "",
            "_model_name": "HTMLModel",
            "placeholder": "​",
            "_view_module": "@jupyter-widgets/controls",
            "_model_module_version": "1.5.0",
            "value": " 0/2 [22:49&lt;?, ?it/s]",
            "_view_count": null,
            "_view_module_version": "1.5.0",
            "description_tooltip": null,
            "_model_module": "@jupyter-widgets/controls",
            "layout": "IPY_MODEL_a5e4a27a1199487ab5e77aa59faedea5"
          }
        },
        "766c2d0fdff84391994f3b2be9b05d82": {
          "model_module": "@jupyter-widgets/controls",
          "model_name": "ProgressStyleModel",
          "state": {
            "_view_name": "StyleView",
            "_model_name": "ProgressStyleModel",
            "description_width": "initial",
            "_view_module": "@jupyter-widgets/base",
            "_model_module_version": "1.5.0",
            "_view_count": null,
            "_view_module_version": "1.2.0",
            "bar_color": null,
            "_model_module": "@jupyter-widgets/controls"
          }
        },
        "b12b97656c584bdb895c409c93939ac0": {
          "model_module": "@jupyter-widgets/base",
          "model_name": "LayoutModel",
          "state": {
            "_view_name": "LayoutView",
            "grid_template_rows": null,
            "right": null,
            "justify_content": null,
            "_view_module": "@jupyter-widgets/base",
            "overflow": null,
            "_model_module_version": "1.2.0",
            "_view_count": null,
            "flex_flow": null,
            "width": null,
            "min_width": null,
            "border": null,
            "align_items": null,
            "bottom": null,
            "_model_module": "@jupyter-widgets/base",
            "top": null,
            "grid_column": null,
            "overflow_y": null,
            "overflow_x": null,
            "grid_auto_flow": null,
            "grid_area": null,
            "grid_template_columns": null,
            "flex": "2",
            "_model_name": "LayoutModel",
            "justify_items": null,
            "grid_row": null,
            "max_height": null,
            "align_content": null,
            "visibility": null,
            "align_self": null,
            "height": null,
            "min_height": null,
            "padding": null,
            "grid_auto_rows": null,
            "grid_gap": null,
            "max_width": null,
            "order": null,
            "_view_module_version": "1.2.0",
            "grid_template_areas": null,
            "object_position": null,
            "object_fit": null,
            "grid_auto_columns": null,
            "margin": null,
            "display": null,
            "left": null
          }
        },
        "db6ae088d5e340bd948bc33d68f19799": {
          "model_module": "@jupyter-widgets/controls",
          "model_name": "DescriptionStyleModel",
          "state": {
            "_view_name": "StyleView",
            "_model_name": "DescriptionStyleModel",
            "description_width": "",
            "_view_module": "@jupyter-widgets/base",
            "_model_module_version": "1.5.0",
            "_view_count": null,
            "_view_module_version": "1.2.0",
            "_model_module": "@jupyter-widgets/controls"
          }
        },
        "a5e4a27a1199487ab5e77aa59faedea5": {
          "model_module": "@jupyter-widgets/base",
          "model_name": "LayoutModel",
          "state": {
            "_view_name": "LayoutView",
            "grid_template_rows": null,
            "right": null,
            "justify_content": null,
            "_view_module": "@jupyter-widgets/base",
            "overflow": null,
            "_model_module_version": "1.2.0",
            "_view_count": null,
            "flex_flow": null,
            "width": null,
            "min_width": null,
            "border": null,
            "align_items": null,
            "bottom": null,
            "_model_module": "@jupyter-widgets/base",
            "top": null,
            "grid_column": null,
            "overflow_y": null,
            "overflow_x": null,
            "grid_auto_flow": null,
            "grid_area": null,
            "grid_template_columns": null,
            "flex": null,
            "_model_name": "LayoutModel",
            "justify_items": null,
            "grid_row": null,
            "max_height": null,
            "align_content": null,
            "visibility": null,
            "align_self": null,
            "height": null,
            "min_height": null,
            "padding": null,
            "grid_auto_rows": null,
            "grid_gap": null,
            "max_width": null,
            "order": null,
            "_view_module_version": "1.2.0",
            "grid_template_areas": null,
            "object_position": null,
            "object_fit": null,
            "grid_auto_columns": null,
            "margin": null,
            "display": null,
            "left": null
          }
        },
        "7176699bf74347dbaab4a942102c1e2b": {
          "model_module": "@jupyter-widgets/controls",
          "model_name": "HBoxModel",
          "state": {
            "_view_name": "HBoxView",
            "_dom_classes": [],
            "_model_name": "HBoxModel",
            "_view_module": "@jupyter-widgets/controls",
            "_model_module_version": "1.5.0",
            "_view_count": null,
            "_view_module_version": "1.5.0",
            "box_style": "",
            "layout": "IPY_MODEL_1cc7b7ebf4934806a4acda80c9292fc5",
            "_model_module": "@jupyter-widgets/controls",
            "children": [
              "IPY_MODEL_9e5b3eba14424df2bd4b749d32e1d981",
              "IPY_MODEL_de0b006f0de9404298f2fce2dbf6a0d7"
            ]
          }
        },
        "1cc7b7ebf4934806a4acda80c9292fc5": {
          "model_module": "@jupyter-widgets/base",
          "model_name": "LayoutModel",
          "state": {
            "_view_name": "LayoutView",
            "grid_template_rows": null,
            "right": null,
            "justify_content": null,
            "_view_module": "@jupyter-widgets/base",
            "overflow": null,
            "_model_module_version": "1.2.0",
            "_view_count": null,
            "flex_flow": "row wrap",
            "width": "100%",
            "min_width": null,
            "border": null,
            "align_items": null,
            "bottom": null,
            "_model_module": "@jupyter-widgets/base",
            "top": null,
            "grid_column": null,
            "overflow_y": null,
            "overflow_x": null,
            "grid_auto_flow": null,
            "grid_area": null,
            "grid_template_columns": null,
            "flex": null,
            "_model_name": "LayoutModel",
            "justify_items": null,
            "grid_row": null,
            "max_height": null,
            "align_content": null,
            "visibility": null,
            "align_self": null,
            "height": null,
            "min_height": null,
            "padding": null,
            "grid_auto_rows": null,
            "grid_gap": null,
            "max_width": null,
            "order": null,
            "_view_module_version": "1.2.0",
            "grid_template_areas": null,
            "object_position": null,
            "object_fit": null,
            "grid_auto_columns": null,
            "margin": null,
            "display": "inline-flex",
            "left": null
          }
        },
        "9e5b3eba14424df2bd4b749d32e1d981": {
          "model_module": "@jupyter-widgets/controls",
          "model_name": "FloatProgressModel",
          "state": {
            "_view_name": "ProgressView",
            "style": "IPY_MODEL_dcafd68645af4e89a9a4d5cf532c33c0",
            "_dom_classes": [],
            "description": "Epoch 1:  10%",
            "_model_name": "FloatProgressModel",
            "bar_style": "info",
            "max": 837,
            "_view_module": "@jupyter-widgets/controls",
            "_model_module_version": "1.5.0",
            "value": 80,
            "_view_count": null,
            "_view_module_version": "1.5.0",
            "orientation": "horizontal",
            "min": 0,
            "description_tooltip": null,
            "_model_module": "@jupyter-widgets/controls",
            "layout": "IPY_MODEL_3ad52facb40845df9559be8677ae706c"
          }
        },
        "de0b006f0de9404298f2fce2dbf6a0d7": {
          "model_module": "@jupyter-widgets/controls",
          "model_name": "HTMLModel",
          "state": {
            "_view_name": "HTMLView",
            "style": "IPY_MODEL_968eae36c1344c95a2315f22ce1b6f8b",
            "_dom_classes": [],
            "description": "",
            "_model_name": "HTMLModel",
            "placeholder": "​",
            "_view_module": "@jupyter-widgets/controls",
            "_model_module_version": "1.5.0",
            "value": " 80/837 [02:23&lt;22:38,  1.80s/it, loss=nan, v_num=o293]",
            "_view_count": null,
            "_view_module_version": "1.5.0",
            "description_tooltip": null,
            "_model_module": "@jupyter-widgets/controls",
            "layout": "IPY_MODEL_eee16478a0f54338a6c951ff1bf25030"
          }
        },
        "dcafd68645af4e89a9a4d5cf532c33c0": {
          "model_module": "@jupyter-widgets/controls",
          "model_name": "ProgressStyleModel",
          "state": {
            "_view_name": "StyleView",
            "_model_name": "ProgressStyleModel",
            "description_width": "initial",
            "_view_module": "@jupyter-widgets/base",
            "_model_module_version": "1.5.0",
            "_view_count": null,
            "_view_module_version": "1.2.0",
            "bar_color": null,
            "_model_module": "@jupyter-widgets/controls"
          }
        },
        "3ad52facb40845df9559be8677ae706c": {
          "model_module": "@jupyter-widgets/base",
          "model_name": "LayoutModel",
          "state": {
            "_view_name": "LayoutView",
            "grid_template_rows": null,
            "right": null,
            "justify_content": null,
            "_view_module": "@jupyter-widgets/base",
            "overflow": null,
            "_model_module_version": "1.2.0",
            "_view_count": null,
            "flex_flow": null,
            "width": null,
            "min_width": null,
            "border": null,
            "align_items": null,
            "bottom": null,
            "_model_module": "@jupyter-widgets/base",
            "top": null,
            "grid_column": null,
            "overflow_y": null,
            "overflow_x": null,
            "grid_auto_flow": null,
            "grid_area": null,
            "grid_template_columns": null,
            "flex": "2",
            "_model_name": "LayoutModel",
            "justify_items": null,
            "grid_row": null,
            "max_height": null,
            "align_content": null,
            "visibility": null,
            "align_self": null,
            "height": null,
            "min_height": null,
            "padding": null,
            "grid_auto_rows": null,
            "grid_gap": null,
            "max_width": null,
            "order": null,
            "_view_module_version": "1.2.0",
            "grid_template_areas": null,
            "object_position": null,
            "object_fit": null,
            "grid_auto_columns": null,
            "margin": null,
            "display": null,
            "left": null
          }
        },
        "968eae36c1344c95a2315f22ce1b6f8b": {
          "model_module": "@jupyter-widgets/controls",
          "model_name": "DescriptionStyleModel",
          "state": {
            "_view_name": "StyleView",
            "_model_name": "DescriptionStyleModel",
            "description_width": "",
            "_view_module": "@jupyter-widgets/base",
            "_model_module_version": "1.5.0",
            "_view_count": null,
            "_view_module_version": "1.2.0",
            "_model_module": "@jupyter-widgets/controls"
          }
        },
        "eee16478a0f54338a6c951ff1bf25030": {
          "model_module": "@jupyter-widgets/base",
          "model_name": "LayoutModel",
          "state": {
            "_view_name": "LayoutView",
            "grid_template_rows": null,
            "right": null,
            "justify_content": null,
            "_view_module": "@jupyter-widgets/base",
            "overflow": null,
            "_model_module_version": "1.2.0",
            "_view_count": null,
            "flex_flow": null,
            "width": null,
            "min_width": null,
            "border": null,
            "align_items": null,
            "bottom": null,
            "_model_module": "@jupyter-widgets/base",
            "top": null,
            "grid_column": null,
            "overflow_y": null,
            "overflow_x": null,
            "grid_auto_flow": null,
            "grid_area": null,
            "grid_template_columns": null,
            "flex": null,
            "_model_name": "LayoutModel",
            "justify_items": null,
            "grid_row": null,
            "max_height": null,
            "align_content": null,
            "visibility": null,
            "align_self": null,
            "height": null,
            "min_height": null,
            "padding": null,
            "grid_auto_rows": null,
            "grid_gap": null,
            "max_width": null,
            "order": null,
            "_view_module_version": "1.2.0",
            "grid_template_areas": null,
            "object_position": null,
            "object_fit": null,
            "grid_auto_columns": null,
            "margin": null,
            "display": null,
            "left": null
          }
        },
        "7282746d33674bbb890f676246e02e81": {
          "model_module": "@jupyter-widgets/controls",
          "model_name": "HBoxModel",
          "state": {
            "_view_name": "HBoxView",
            "_dom_classes": [],
            "_model_name": "HBoxModel",
            "_view_module": "@jupyter-widgets/controls",
            "_model_module_version": "1.5.0",
            "_view_count": null,
            "_view_module_version": "1.5.0",
            "box_style": "",
            "layout": "IPY_MODEL_7c18dd35beea42d389098facfd57b006",
            "_model_module": "@jupyter-widgets/controls",
            "children": [
              "IPY_MODEL_44cd31655bc84d998c2f1d81066300bf",
              "IPY_MODEL_f902d87f85ce49189faef247ed489b76"
            ]
          }
        },
        "7c18dd35beea42d389098facfd57b006": {
          "model_module": "@jupyter-widgets/base",
          "model_name": "LayoutModel",
          "state": {
            "_view_name": "LayoutView",
            "grid_template_rows": null,
            "right": null,
            "justify_content": null,
            "_view_module": "@jupyter-widgets/base",
            "overflow": null,
            "_model_module_version": "1.2.0",
            "_view_count": null,
            "flex_flow": "row wrap",
            "width": "100%",
            "min_width": null,
            "border": null,
            "align_items": null,
            "bottom": null,
            "_model_module": "@jupyter-widgets/base",
            "top": null,
            "grid_column": null,
            "overflow_y": null,
            "overflow_x": null,
            "grid_auto_flow": null,
            "grid_area": null,
            "grid_template_columns": null,
            "flex": null,
            "_model_name": "LayoutModel",
            "justify_items": null,
            "grid_row": null,
            "max_height": null,
            "align_content": null,
            "visibility": null,
            "align_self": null,
            "height": null,
            "min_height": null,
            "padding": null,
            "grid_auto_rows": null,
            "grid_gap": null,
            "max_width": null,
            "order": null,
            "_view_module_version": "1.2.0",
            "grid_template_areas": null,
            "object_position": null,
            "object_fit": null,
            "grid_auto_columns": null,
            "margin": null,
            "display": "inline-flex",
            "left": null
          }
        },
        "44cd31655bc84d998c2f1d81066300bf": {
          "model_module": "@jupyter-widgets/controls",
          "model_name": "FloatProgressModel",
          "state": {
            "_view_name": "ProgressView",
            "style": "IPY_MODEL_97809786d6024c3d86ef240afe82beb0",
            "_dom_classes": [],
            "description": "Validating: 100%",
            "_model_name": "FloatProgressModel",
            "bar_style": "info",
            "max": 254,
            "_view_module": "@jupyter-widgets/controls",
            "_model_module_version": "1.5.0",
            "value": 254,
            "_view_count": null,
            "_view_module_version": "1.5.0",
            "orientation": "horizontal",
            "min": 0,
            "description_tooltip": null,
            "_model_module": "@jupyter-widgets/controls",
            "layout": "IPY_MODEL_40c20b993c71432abecb952c19fc7e7f"
          }
        },
        "f902d87f85ce49189faef247ed489b76": {
          "model_module": "@jupyter-widgets/controls",
          "model_name": "HTMLModel",
          "state": {
            "_view_name": "HTMLView",
            "style": "IPY_MODEL_786f57e61465443b82988f39b814ef84",
            "_dom_classes": [],
            "description": "",
            "_model_name": "HTMLModel",
            "placeholder": "​",
            "_view_module": "@jupyter-widgets/controls",
            "_model_module_version": "1.5.0",
            "value": " 254/254 [08:04&lt;00:00,  1.87s/it]",
            "_view_count": null,
            "_view_module_version": "1.5.0",
            "description_tooltip": null,
            "_model_module": "@jupyter-widgets/controls",
            "layout": "IPY_MODEL_e39f180c3674452d947a57a00f9b48f8"
          }
        },
        "97809786d6024c3d86ef240afe82beb0": {
          "model_module": "@jupyter-widgets/controls",
          "model_name": "ProgressStyleModel",
          "state": {
            "_view_name": "StyleView",
            "_model_name": "ProgressStyleModel",
            "description_width": "initial",
            "_view_module": "@jupyter-widgets/base",
            "_model_module_version": "1.5.0",
            "_view_count": null,
            "_view_module_version": "1.2.0",
            "bar_color": null,
            "_model_module": "@jupyter-widgets/controls"
          }
        },
        "40c20b993c71432abecb952c19fc7e7f": {
          "model_module": "@jupyter-widgets/base",
          "model_name": "LayoutModel",
          "state": {
            "_view_name": "LayoutView",
            "grid_template_rows": null,
            "right": null,
            "justify_content": null,
            "_view_module": "@jupyter-widgets/base",
            "overflow": null,
            "_model_module_version": "1.2.0",
            "_view_count": null,
            "flex_flow": null,
            "width": null,
            "min_width": null,
            "border": null,
            "align_items": null,
            "bottom": null,
            "_model_module": "@jupyter-widgets/base",
            "top": null,
            "grid_column": null,
            "overflow_y": null,
            "overflow_x": null,
            "grid_auto_flow": null,
            "grid_area": null,
            "grid_template_columns": null,
            "flex": "2",
            "_model_name": "LayoutModel",
            "justify_items": null,
            "grid_row": null,
            "max_height": null,
            "align_content": null,
            "visibility": null,
            "align_self": null,
            "height": null,
            "min_height": null,
            "padding": null,
            "grid_auto_rows": null,
            "grid_gap": null,
            "max_width": null,
            "order": null,
            "_view_module_version": "1.2.0",
            "grid_template_areas": null,
            "object_position": null,
            "object_fit": null,
            "grid_auto_columns": null,
            "margin": null,
            "display": null,
            "left": null
          }
        },
        "786f57e61465443b82988f39b814ef84": {
          "model_module": "@jupyter-widgets/controls",
          "model_name": "DescriptionStyleModel",
          "state": {
            "_view_name": "StyleView",
            "_model_name": "DescriptionStyleModel",
            "description_width": "",
            "_view_module": "@jupyter-widgets/base",
            "_model_module_version": "1.5.0",
            "_view_count": null,
            "_view_module_version": "1.2.0",
            "_model_module": "@jupyter-widgets/controls"
          }
        },
        "e39f180c3674452d947a57a00f9b48f8": {
          "model_module": "@jupyter-widgets/base",
          "model_name": "LayoutModel",
          "state": {
            "_view_name": "LayoutView",
            "grid_template_rows": null,
            "right": null,
            "justify_content": null,
            "_view_module": "@jupyter-widgets/base",
            "overflow": null,
            "_model_module_version": "1.2.0",
            "_view_count": null,
            "flex_flow": null,
            "width": null,
            "min_width": null,
            "border": null,
            "align_items": null,
            "bottom": null,
            "_model_module": "@jupyter-widgets/base",
            "top": null,
            "grid_column": null,
            "overflow_y": null,
            "overflow_x": null,
            "grid_auto_flow": null,
            "grid_area": null,
            "grid_template_columns": null,
            "flex": null,
            "_model_name": "LayoutModel",
            "justify_items": null,
            "grid_row": null,
            "max_height": null,
            "align_content": null,
            "visibility": null,
            "align_self": null,
            "height": null,
            "min_height": null,
            "padding": null,
            "grid_auto_rows": null,
            "grid_gap": null,
            "max_width": null,
            "order": null,
            "_view_module_version": "1.2.0",
            "grid_template_areas": null,
            "object_position": null,
            "object_fit": null,
            "grid_auto_columns": null,
            "margin": null,
            "display": null,
            "left": null
          }
        }
      }
    }
  },
  "cells": [
    {
      "cell_type": "markdown",
      "metadata": {
        "id": "view-in-github",
        "colab_type": "text"
      },
      "source": [
        "<a href=\"https://colab.research.google.com/github/jsxhhyf/Optiver/blob/main/training.ipynb\" target=\"_parent\"><img src=\"https://colab.research.google.com/assets/colab-badge.svg\" alt=\"Open In Colab\"/></a>"
      ]
    },
    {
      "cell_type": "code",
      "metadata": {
        "id": "vPHE3FPx1dCy"
      },
      "source": [
        "!mkdir -p ~/.kaggle\n",
        "!cp ./drive/MyDrive/Colab\\ Notebooks/Kaggle/kaggle.json ~/.kaggle/\n",
        "!chmod 600 ~/.kaggle/kaggle.json"
      ],
      "execution_count": 1,
      "outputs": []
    },
    {
      "cell_type": "code",
      "metadata": {
        "id": "DLa1mfl6ppm5"
      },
      "source": [
        "!mkdir -p ./optiver-realized-volatility-prediction/parquet\n",
        "!mkdir -p ./optiver-realized-volatility-prediction/csv\n",
        "!cp ./drive/MyDrive/Colab\\ Notebooks/Kaggle/preprocessed/*.parquet ./optiver-realized-volatility-prediction/parquet\n",
        "!cp ./drive/MyDrive/Colab\\ Notebooks/Kaggle/preprocessed/*.csv ./optiver-realized-volatility-prediction/csv"
      ],
      "execution_count": 2,
      "outputs": []
    },
    {
      "cell_type": "code",
      "metadata": {
        "id": "LryshVaTrwpS",
        "colab": {
          "base_uri": "https://localhost:8080/"
        },
        "outputId": "e2b174ad-8f85-4a3c-e028-99848050f591"
      },
      "source": [
        "!pip install wandb\n",
        "!pip install pytorch-lightning\n",
        "!pip install tensor-sensor[torch]"
      ],
      "execution_count": 3,
      "outputs": [
        {
          "output_type": "stream",
          "text": [
            "Collecting wandb\n",
            "  Downloading wandb-0.11.2-py2.py3-none-any.whl (1.8 MB)\n",
            "\u001b[?25l\r\u001b[K     |▏                               | 10 kB 21.2 MB/s eta 0:00:01\r\u001b[K     |▍                               | 20 kB 23.6 MB/s eta 0:00:01\r\u001b[K     |▌                               | 30 kB 21.0 MB/s eta 0:00:01\r\u001b[K     |▊                               | 40 kB 17.2 MB/s eta 0:00:01\r\u001b[K     |█                               | 51 kB 8.2 MB/s eta 0:00:01\r\u001b[K     |█                               | 61 kB 8.7 MB/s eta 0:00:01\r\u001b[K     |█▎                              | 71 kB 7.4 MB/s eta 0:00:01\r\u001b[K     |█▍                              | 81 kB 8.2 MB/s eta 0:00:01\r\u001b[K     |█▋                              | 92 kB 8.5 MB/s eta 0:00:01\r\u001b[K     |█▉                              | 102 kB 7.8 MB/s eta 0:00:01\r\u001b[K     |██                              | 112 kB 7.8 MB/s eta 0:00:01\r\u001b[K     |██▏                             | 122 kB 7.8 MB/s eta 0:00:01\r\u001b[K     |██▎                             | 133 kB 7.8 MB/s eta 0:00:01\r\u001b[K     |██▌                             | 143 kB 7.8 MB/s eta 0:00:01\r\u001b[K     |██▊                             | 153 kB 7.8 MB/s eta 0:00:01\r\u001b[K     |██▉                             | 163 kB 7.8 MB/s eta 0:00:01\r\u001b[K     |███                             | 174 kB 7.8 MB/s eta 0:00:01\r\u001b[K     |███▏                            | 184 kB 7.8 MB/s eta 0:00:01\r\u001b[K     |███▍                            | 194 kB 7.8 MB/s eta 0:00:01\r\u001b[K     |███▋                            | 204 kB 7.8 MB/s eta 0:00:01\r\u001b[K     |███▊                            | 215 kB 7.8 MB/s eta 0:00:01\r\u001b[K     |████                            | 225 kB 7.8 MB/s eta 0:00:01\r\u001b[K     |████                            | 235 kB 7.8 MB/s eta 0:00:01\r\u001b[K     |████▎                           | 245 kB 7.8 MB/s eta 0:00:01\r\u001b[K     |████▌                           | 256 kB 7.8 MB/s eta 0:00:01\r\u001b[K     |████▋                           | 266 kB 7.8 MB/s eta 0:00:01\r\u001b[K     |████▉                           | 276 kB 7.8 MB/s eta 0:00:01\r\u001b[K     |█████                           | 286 kB 7.8 MB/s eta 0:00:01\r\u001b[K     |█████▏                          | 296 kB 7.8 MB/s eta 0:00:01\r\u001b[K     |█████▍                          | 307 kB 7.8 MB/s eta 0:00:01\r\u001b[K     |█████▌                          | 317 kB 7.8 MB/s eta 0:00:01\r\u001b[K     |█████▊                          | 327 kB 7.8 MB/s eta 0:00:01\r\u001b[K     |█████▉                          | 337 kB 7.8 MB/s eta 0:00:01\r\u001b[K     |██████                          | 348 kB 7.8 MB/s eta 0:00:01\r\u001b[K     |██████▎                         | 358 kB 7.8 MB/s eta 0:00:01\r\u001b[K     |██████▍                         | 368 kB 7.8 MB/s eta 0:00:01\r\u001b[K     |██████▋                         | 378 kB 7.8 MB/s eta 0:00:01\r\u001b[K     |██████▊                         | 389 kB 7.8 MB/s eta 0:00:01\r\u001b[K     |███████                         | 399 kB 7.8 MB/s eta 0:00:01\r\u001b[K     |███████▏                        | 409 kB 7.8 MB/s eta 0:00:01\r\u001b[K     |███████▎                        | 419 kB 7.8 MB/s eta 0:00:01\r\u001b[K     |███████▌                        | 430 kB 7.8 MB/s eta 0:00:01\r\u001b[K     |███████▋                        | 440 kB 7.8 MB/s eta 0:00:01\r\u001b[K     |███████▉                        | 450 kB 7.8 MB/s eta 0:00:01\r\u001b[K     |████████                        | 460 kB 7.8 MB/s eta 0:00:01\r\u001b[K     |████████▏                       | 471 kB 7.8 MB/s eta 0:00:01\r\u001b[K     |████████▍                       | 481 kB 7.8 MB/s eta 0:00:01\r\u001b[K     |████████▌                       | 491 kB 7.8 MB/s eta 0:00:01\r\u001b[K     |████████▊                       | 501 kB 7.8 MB/s eta 0:00:01\r\u001b[K     |█████████                       | 512 kB 7.8 MB/s eta 0:00:01\r\u001b[K     |█████████                       | 522 kB 7.8 MB/s eta 0:00:01\r\u001b[K     |█████████▎                      | 532 kB 7.8 MB/s eta 0:00:01\r\u001b[K     |█████████▍                      | 542 kB 7.8 MB/s eta 0:00:01\r\u001b[K     |█████████▋                      | 552 kB 7.8 MB/s eta 0:00:01\r\u001b[K     |█████████▉                      | 563 kB 7.8 MB/s eta 0:00:01\r\u001b[K     |██████████                      | 573 kB 7.8 MB/s eta 0:00:01\r\u001b[K     |██████████▏                     | 583 kB 7.8 MB/s eta 0:00:01\r\u001b[K     |██████████▎                     | 593 kB 7.8 MB/s eta 0:00:01\r\u001b[K     |██████████▌                     | 604 kB 7.8 MB/s eta 0:00:01\r\u001b[K     |██████████▊                     | 614 kB 7.8 MB/s eta 0:00:01\r\u001b[K     |██████████▉                     | 624 kB 7.8 MB/s eta 0:00:01\r\u001b[K     |███████████                     | 634 kB 7.8 MB/s eta 0:00:01\r\u001b[K     |███████████▏                    | 645 kB 7.8 MB/s eta 0:00:01\r\u001b[K     |███████████▍                    | 655 kB 7.8 MB/s eta 0:00:01\r\u001b[K     |███████████▋                    | 665 kB 7.8 MB/s eta 0:00:01\r\u001b[K     |███████████▊                    | 675 kB 7.8 MB/s eta 0:00:01\r\u001b[K     |████████████                    | 686 kB 7.8 MB/s eta 0:00:01\r\u001b[K     |████████████                    | 696 kB 7.8 MB/s eta 0:00:01\r\u001b[K     |████████████▎                   | 706 kB 7.8 MB/s eta 0:00:01\r\u001b[K     |████████████▌                   | 716 kB 7.8 MB/s eta 0:00:01\r\u001b[K     |████████████▋                   | 727 kB 7.8 MB/s eta 0:00:01\r\u001b[K     |████████████▉                   | 737 kB 7.8 MB/s eta 0:00:01\r\u001b[K     |█████████████                   | 747 kB 7.8 MB/s eta 0:00:01\r\u001b[K     |█████████████▏                  | 757 kB 7.8 MB/s eta 0:00:01\r\u001b[K     |█████████████▍                  | 768 kB 7.8 MB/s eta 0:00:01\r\u001b[K     |█████████████▌                  | 778 kB 7.8 MB/s eta 0:00:01\r\u001b[K     |█████████████▊                  | 788 kB 7.8 MB/s eta 0:00:01\r\u001b[K     |█████████████▉                  | 798 kB 7.8 MB/s eta 0:00:01\r\u001b[K     |██████████████                  | 808 kB 7.8 MB/s eta 0:00:01\r\u001b[K     |██████████████▎                 | 819 kB 7.8 MB/s eta 0:00:01\r\u001b[K     |██████████████▍                 | 829 kB 7.8 MB/s eta 0:00:01\r\u001b[K     |██████████████▋                 | 839 kB 7.8 MB/s eta 0:00:01\r\u001b[K     |██████████████▊                 | 849 kB 7.8 MB/s eta 0:00:01\r\u001b[K     |███████████████                 | 860 kB 7.8 MB/s eta 0:00:01\r\u001b[K     |███████████████▏                | 870 kB 7.8 MB/s eta 0:00:01\r\u001b[K     |███████████████▎                | 880 kB 7.8 MB/s eta 0:00:01\r\u001b[K     |███████████████▌                | 890 kB 7.8 MB/s eta 0:00:01\r\u001b[K     |███████████████▊                | 901 kB 7.8 MB/s eta 0:00:01\r\u001b[K     |███████████████▉                | 911 kB 7.8 MB/s eta 0:00:01\r\u001b[K     |████████████████                | 921 kB 7.8 MB/s eta 0:00:01\r\u001b[K     |████████████████▏               | 931 kB 7.8 MB/s eta 0:00:01\r\u001b[K     |████████████████▍               | 942 kB 7.8 MB/s eta 0:00:01\r\u001b[K     |████████████████▋               | 952 kB 7.8 MB/s eta 0:00:01\r\u001b[K     |████████████████▊               | 962 kB 7.8 MB/s eta 0:00:01\r\u001b[K     |█████████████████               | 972 kB 7.8 MB/s eta 0:00:01\r\u001b[K     |█████████████████               | 983 kB 7.8 MB/s eta 0:00:01\r\u001b[K     |█████████████████▎              | 993 kB 7.8 MB/s eta 0:00:01\r\u001b[K     |█████████████████▌              | 1.0 MB 7.8 MB/s eta 0:00:01\r\u001b[K     |█████████████████▋              | 1.0 MB 7.8 MB/s eta 0:00:01\r\u001b[K     |█████████████████▉              | 1.0 MB 7.8 MB/s eta 0:00:01\r\u001b[K     |██████████████████              | 1.0 MB 7.8 MB/s eta 0:00:01\r\u001b[K     |██████████████████▏             | 1.0 MB 7.8 MB/s eta 0:00:01\r\u001b[K     |██████████████████▍             | 1.1 MB 7.8 MB/s eta 0:00:01\r\u001b[K     |██████████████████▌             | 1.1 MB 7.8 MB/s eta 0:00:01\r\u001b[K     |██████████████████▊             | 1.1 MB 7.8 MB/s eta 0:00:01\r\u001b[K     |██████████████████▉             | 1.1 MB 7.8 MB/s eta 0:00:01\r\u001b[K     |███████████████████             | 1.1 MB 7.8 MB/s eta 0:00:01\r\u001b[K     |███████████████████▎            | 1.1 MB 7.8 MB/s eta 0:00:01\r\u001b[K     |███████████████████▍            | 1.1 MB 7.8 MB/s eta 0:00:01\r\u001b[K     |███████████████████▋            | 1.1 MB 7.8 MB/s eta 0:00:01\r\u001b[K     |███████████████████▊            | 1.1 MB 7.8 MB/s eta 0:00:01\r\u001b[K     |████████████████████            | 1.1 MB 7.8 MB/s eta 0:00:01\r\u001b[K     |████████████████████▏           | 1.2 MB 7.8 MB/s eta 0:00:01\r\u001b[K     |████████████████████▎           | 1.2 MB 7.8 MB/s eta 0:00:01\r\u001b[K     |████████████████████▌           | 1.2 MB 7.8 MB/s eta 0:00:01\r\u001b[K     |████████████████████▋           | 1.2 MB 7.8 MB/s eta 0:00:01\r\u001b[K     |████████████████████▉           | 1.2 MB 7.8 MB/s eta 0:00:01\r\u001b[K     |█████████████████████           | 1.2 MB 7.8 MB/s eta 0:00:01\r\u001b[K     |█████████████████████▏          | 1.2 MB 7.8 MB/s eta 0:00:01\r\u001b[K     |█████████████████████▍          | 1.2 MB 7.8 MB/s eta 0:00:01\r\u001b[K     |█████████████████████▌          | 1.2 MB 7.8 MB/s eta 0:00:01\r\u001b[K     |█████████████████████▊          | 1.2 MB 7.8 MB/s eta 0:00:01\r\u001b[K     |██████████████████████          | 1.3 MB 7.8 MB/s eta 0:00:01\r\u001b[K     |██████████████████████          | 1.3 MB 7.8 MB/s eta 0:00:01\r\u001b[K     |██████████████████████▎         | 1.3 MB 7.8 MB/s eta 0:00:01\r\u001b[K     |██████████████████████▍         | 1.3 MB 7.8 MB/s eta 0:00:01\r\u001b[K     |██████████████████████▋         | 1.3 MB 7.8 MB/s eta 0:00:01\r\u001b[K     |██████████████████████▉         | 1.3 MB 7.8 MB/s eta 0:00:01\r\u001b[K     |███████████████████████         | 1.3 MB 7.8 MB/s eta 0:00:01\r\u001b[K     |███████████████████████▏        | 1.3 MB 7.8 MB/s eta 0:00:01\r\u001b[K     |███████████████████████▎        | 1.3 MB 7.8 MB/s eta 0:00:01\r\u001b[K     |███████████████████████▌        | 1.4 MB 7.8 MB/s eta 0:00:01\r\u001b[K     |███████████████████████▊        | 1.4 MB 7.8 MB/s eta 0:00:01\r\u001b[K     |███████████████████████▉        | 1.4 MB 7.8 MB/s eta 0:00:01\r\u001b[K     |████████████████████████        | 1.4 MB 7.8 MB/s eta 0:00:01\r\u001b[K     |████████████████████████▏       | 1.4 MB 7.8 MB/s eta 0:00:01\r\u001b[K     |████████████████████████▍       | 1.4 MB 7.8 MB/s eta 0:00:01\r\u001b[K     |████████████████████████▋       | 1.4 MB 7.8 MB/s eta 0:00:01\r\u001b[K     |████████████████████████▊       | 1.4 MB 7.8 MB/s eta 0:00:01\r\u001b[K     |█████████████████████████       | 1.4 MB 7.8 MB/s eta 0:00:01\r\u001b[K     |█████████████████████████       | 1.4 MB 7.8 MB/s eta 0:00:01\r\u001b[K     |█████████████████████████▎      | 1.5 MB 7.8 MB/s eta 0:00:01\r\u001b[K     |█████████████████████████▌      | 1.5 MB 7.8 MB/s eta 0:00:01\r\u001b[K     |█████████████████████████▋      | 1.5 MB 7.8 MB/s eta 0:00:01\r\u001b[K     |█████████████████████████▉      | 1.5 MB 7.8 MB/s eta 0:00:01\r\u001b[K     |██████████████████████████      | 1.5 MB 7.8 MB/s eta 0:00:01\r\u001b[K     |██████████████████████████▏     | 1.5 MB 7.8 MB/s eta 0:00:01\r\u001b[K     |██████████████████████████▍     | 1.5 MB 7.8 MB/s eta 0:00:01\r\u001b[K     |██████████████████████████▌     | 1.5 MB 7.8 MB/s eta 0:00:01\r\u001b[K     |██████████████████████████▊     | 1.5 MB 7.8 MB/s eta 0:00:01\r\u001b[K     |██████████████████████████▉     | 1.5 MB 7.8 MB/s eta 0:00:01\r\u001b[K     |███████████████████████████     | 1.6 MB 7.8 MB/s eta 0:00:01\r\u001b[K     |███████████████████████████▎    | 1.6 MB 7.8 MB/s eta 0:00:01\r\u001b[K     |███████████████████████████▍    | 1.6 MB 7.8 MB/s eta 0:00:01\r\u001b[K     |███████████████████████████▋    | 1.6 MB 7.8 MB/s eta 0:00:01\r\u001b[K     |███████████████████████████▊    | 1.6 MB 7.8 MB/s eta 0:00:01\r\u001b[K     |████████████████████████████    | 1.6 MB 7.8 MB/s eta 0:00:01\r\u001b[K     |████████████████████████████▏   | 1.6 MB 7.8 MB/s eta 0:00:01\r\u001b[K     |████████████████████████████▎   | 1.6 MB 7.8 MB/s eta 0:00:01\r\u001b[K     |████████████████████████████▌   | 1.6 MB 7.8 MB/s eta 0:00:01\r\u001b[K     |████████████████████████████▋   | 1.6 MB 7.8 MB/s eta 0:00:01\r\u001b[K     |████████████████████████████▉   | 1.7 MB 7.8 MB/s eta 0:00:01\r\u001b[K     |█████████████████████████████   | 1.7 MB 7.8 MB/s eta 0:00:01\r\u001b[K     |█████████████████████████████▏  | 1.7 MB 7.8 MB/s eta 0:00:01\r\u001b[K     |█████████████████████████████▍  | 1.7 MB 7.8 MB/s eta 0:00:01\r\u001b[K     |█████████████████████████████▌  | 1.7 MB 7.8 MB/s eta 0:00:01\r\u001b[K     |█████████████████████████████▊  | 1.7 MB 7.8 MB/s eta 0:00:01\r\u001b[K     |██████████████████████████████  | 1.7 MB 7.8 MB/s eta 0:00:01\r\u001b[K     |██████████████████████████████  | 1.7 MB 7.8 MB/s eta 0:00:01\r\u001b[K     |██████████████████████████████▎ | 1.7 MB 7.8 MB/s eta 0:00:01\r\u001b[K     |██████████████████████████████▌ | 1.8 MB 7.8 MB/s eta 0:00:01\r\u001b[K     |██████████████████████████████▋ | 1.8 MB 7.8 MB/s eta 0:00:01\r\u001b[K     |██████████████████████████████▉ | 1.8 MB 7.8 MB/s eta 0:00:01\r\u001b[K     |███████████████████████████████ | 1.8 MB 7.8 MB/s eta 0:00:01\r\u001b[K     |███████████████████████████████▏| 1.8 MB 7.8 MB/s eta 0:00:01\r\u001b[K     |███████████████████████████████▍| 1.8 MB 7.8 MB/s eta 0:00:01\r\u001b[K     |███████████████████████████████▌| 1.8 MB 7.8 MB/s eta 0:00:01\r\u001b[K     |███████████████████████████████▊| 1.8 MB 7.8 MB/s eta 0:00:01\r\u001b[K     |███████████████████████████████▉| 1.8 MB 7.8 MB/s eta 0:00:01\r\u001b[K     |████████████████████████████████| 1.8 MB 7.8 MB/s \n",
            "\u001b[?25hCollecting pathtools\n",
            "  Downloading pathtools-0.1.2.tar.gz (11 kB)\n",
            "Requirement already satisfied: PyYAML in /usr/local/lib/python3.7/dist-packages (from wandb) (3.13)\n",
            "Collecting configparser>=3.8.1\n",
            "  Downloading configparser-5.0.2-py3-none-any.whl (19 kB)\n",
            "Collecting docker-pycreds>=0.4.0\n",
            "  Downloading docker_pycreds-0.4.0-py2.py3-none-any.whl (9.0 kB)\n",
            "Requirement already satisfied: protobuf>=3.12.0 in /usr/local/lib/python3.7/dist-packages (from wandb) (3.17.3)\n",
            "Requirement already satisfied: six>=1.13.0 in /usr/local/lib/python3.7/dist-packages (from wandb) (1.15.0)\n",
            "Requirement already satisfied: promise<3,>=2.0 in /usr/local/lib/python3.7/dist-packages (from wandb) (2.3)\n",
            "Requirement already satisfied: Click!=8.0.0,>=7.0 in /usr/local/lib/python3.7/dist-packages (from wandb) (7.1.2)\n",
            "Collecting shortuuid>=0.5.0\n",
            "  Downloading shortuuid-1.0.1-py3-none-any.whl (7.5 kB)\n",
            "Requirement already satisfied: python-dateutil>=2.6.1 in /usr/local/lib/python3.7/dist-packages (from wandb) (2.8.1)\n",
            "Requirement already satisfied: psutil>=5.0.0 in /usr/local/lib/python3.7/dist-packages (from wandb) (5.4.8)\n",
            "Collecting sentry-sdk>=1.0.0\n",
            "  Downloading sentry_sdk-1.3.1-py2.py3-none-any.whl (133 kB)\n",
            "\u001b[K     |████████████████████████████████| 133 kB 49.2 MB/s \n",
            "\u001b[?25hCollecting subprocess32>=3.5.3\n",
            "  Downloading subprocess32-3.5.4.tar.gz (97 kB)\n",
            "\u001b[K     |████████████████████████████████| 97 kB 6.7 MB/s \n",
            "\u001b[?25hCollecting urllib3>=1.26.5\n",
            "  Downloading urllib3-1.26.6-py2.py3-none-any.whl (138 kB)\n",
            "\u001b[K     |████████████████████████████████| 138 kB 52.4 MB/s \n",
            "\u001b[?25hCollecting GitPython>=1.0.0\n",
            "  Downloading GitPython-3.1.18-py3-none-any.whl (170 kB)\n",
            "\u001b[K     |████████████████████████████████| 170 kB 61.5 MB/s \n",
            "\u001b[?25hRequirement already satisfied: requests<3,>=2.0.0 in /usr/local/lib/python3.7/dist-packages (from wandb) (2.23.0)\n",
            "Requirement already satisfied: typing-extensions>=3.7.4.0 in /usr/local/lib/python3.7/dist-packages (from GitPython>=1.0.0->wandb) (3.7.4.3)\n",
            "Collecting gitdb<5,>=4.0.1\n",
            "  Downloading gitdb-4.0.7-py3-none-any.whl (63 kB)\n",
            "\u001b[K     |████████████████████████████████| 63 kB 1.9 MB/s \n",
            "\u001b[?25hCollecting smmap<5,>=3.0.1\n",
            "  Downloading smmap-4.0.0-py2.py3-none-any.whl (24 kB)\n",
            "Requirement already satisfied: idna<3,>=2.5 in /usr/local/lib/python3.7/dist-packages (from requests<3,>=2.0.0->wandb) (2.10)\n",
            "Requirement already satisfied: certifi>=2017.4.17 in /usr/local/lib/python3.7/dist-packages (from requests<3,>=2.0.0->wandb) (2021.5.30)\n",
            "Collecting requests<3,>=2.0.0\n",
            "  Downloading requests-2.26.0-py2.py3-none-any.whl (62 kB)\n",
            "\u001b[K     |████████████████████████████████| 62 kB 931 kB/s \n",
            "\u001b[?25hRequirement already satisfied: charset-normalizer~=2.0.0 in /usr/local/lib/python3.7/dist-packages (from requests<3,>=2.0.0->wandb) (2.0.2)\n",
            "Building wheels for collected packages: subprocess32, pathtools\n",
            "  Building wheel for subprocess32 (setup.py) ... \u001b[?25l\u001b[?25hdone\n",
            "  Created wheel for subprocess32: filename=subprocess32-3.5.4-py3-none-any.whl size=6502 sha256=4427f456a72610a08cac8e5b5c5f45544b8f2a724a3994e2b0111aad4bc72549\n",
            "  Stored in directory: /root/.cache/pip/wheels/50/ca/fa/8fca8d246e64f19488d07567547ddec8eb084e8c0d7a59226a\n",
            "  Building wheel for pathtools (setup.py) ... \u001b[?25l\u001b[?25hdone\n",
            "  Created wheel for pathtools: filename=pathtools-0.1.2-py3-none-any.whl size=8806 sha256=126147c1a211a1f77175c6af8d17b815307aaa07fb6a012ac25066b08fe4f50b\n",
            "  Stored in directory: /root/.cache/pip/wheels/3e/31/09/fa59cef12cdcfecc627b3d24273699f390e71828921b2cbba2\n",
            "Successfully built subprocess32 pathtools\n",
            "Installing collected packages: smmap, urllib3, gitdb, subprocess32, shortuuid, sentry-sdk, requests, pathtools, GitPython, docker-pycreds, configparser, wandb\n",
            "  Attempting uninstall: urllib3\n",
            "    Found existing installation: urllib3 1.24.3\n",
            "    Uninstalling urllib3-1.24.3:\n",
            "      Successfully uninstalled urllib3-1.24.3\n",
            "  Attempting uninstall: requests\n",
            "    Found existing installation: requests 2.23.0\n",
            "    Uninstalling requests-2.23.0:\n",
            "      Successfully uninstalled requests-2.23.0\n",
            "\u001b[31mERROR: pip's dependency resolver does not currently take into account all the packages that are installed. This behaviour is the source of the following dependency conflicts.\n",
            "google-colab 1.0.0 requires requests~=2.23.0, but you have requests 2.26.0 which is incompatible.\n",
            "datascience 0.10.6 requires folium==0.2.1, but you have folium 0.8.3 which is incompatible.\u001b[0m\n",
            "Successfully installed GitPython-3.1.18 configparser-5.0.2 docker-pycreds-0.4.0 gitdb-4.0.7 pathtools-0.1.2 requests-2.26.0 sentry-sdk-1.3.1 shortuuid-1.0.1 smmap-4.0.0 subprocess32-3.5.4 urllib3-1.26.6 wandb-0.11.2\n",
            "Collecting pytorch-lightning\n",
            "  Downloading pytorch_lightning-1.4.1-py3-none-any.whl (915 kB)\n",
            "\u001b[K     |████████████████████████████████| 915 kB 8.8 MB/s \n",
            "\u001b[?25hCollecting pyDeprecate==0.3.1\n",
            "  Downloading pyDeprecate-0.3.1-py3-none-any.whl (10 kB)\n",
            "Collecting PyYAML>=5.1\n",
            "  Downloading PyYAML-5.4.1-cp37-cp37m-manylinux1_x86_64.whl (636 kB)\n",
            "\u001b[K     |████████████████████████████████| 636 kB 50.6 MB/s \n",
            "\u001b[?25hRequirement already satisfied: typing-extensions in /usr/local/lib/python3.7/dist-packages (from pytorch-lightning) (3.7.4.3)\n",
            "Requirement already satisfied: numpy>=1.17.2 in /usr/local/lib/python3.7/dist-packages (from pytorch-lightning) (1.19.5)\n",
            "Collecting fsspec[http]!=2021.06.0,>=2021.05.0\n",
            "  Downloading fsspec-2021.7.0-py3-none-any.whl (118 kB)\n",
            "\u001b[K     |████████████████████████████████| 118 kB 66.7 MB/s \n",
            "\u001b[?25hRequirement already satisfied: tqdm>=4.41.0 in /usr/local/lib/python3.7/dist-packages (from pytorch-lightning) (4.41.1)\n",
            "Collecting tensorboard!=2.5.0,>=2.2.0\n",
            "  Downloading tensorboard-2.6.0-py3-none-any.whl (5.6 MB)\n",
            "\u001b[K     |████████████████████████████████| 5.6 MB 49.3 MB/s \n",
            "\u001b[?25hRequirement already satisfied: packaging>=17.0 in /usr/local/lib/python3.7/dist-packages (from pytorch-lightning) (21.0)\n",
            "Requirement already satisfied: torch>=1.6 in /usr/local/lib/python3.7/dist-packages (from pytorch-lightning) (1.9.0+cu102)\n",
            "Collecting future>=0.17.1\n",
            "  Downloading future-0.18.2.tar.gz (829 kB)\n",
            "\u001b[K     |████████████████████████████████| 829 kB 43.9 MB/s \n",
            "\u001b[?25hCollecting torchmetrics>=0.4.0\n",
            "  Downloading torchmetrics-0.4.1-py3-none-any.whl (234 kB)\n",
            "\u001b[K     |████████████████████████████████| 234 kB 51.8 MB/s \n",
            "\u001b[?25hCollecting aiohttp\n",
            "  Downloading aiohttp-3.7.4.post0-cp37-cp37m-manylinux2014_x86_64.whl (1.3 MB)\n",
            "\u001b[K     |████████████████████████████████| 1.3 MB 35.9 MB/s \n",
            "\u001b[?25hRequirement already satisfied: requests in /usr/local/lib/python3.7/dist-packages (from fsspec[http]!=2021.06.0,>=2021.05.0->pytorch-lightning) (2.26.0)\n",
            "Requirement already satisfied: pyparsing>=2.0.2 in /usr/local/lib/python3.7/dist-packages (from packaging>=17.0->pytorch-lightning) (2.4.7)\n",
            "Requirement already satisfied: protobuf>=3.6.0 in /usr/local/lib/python3.7/dist-packages (from tensorboard!=2.5.0,>=2.2.0->pytorch-lightning) (3.17.3)\n",
            "Requirement already satisfied: tensorboard-data-server<0.7.0,>=0.6.0 in /usr/local/lib/python3.7/dist-packages (from tensorboard!=2.5.0,>=2.2.0->pytorch-lightning) (0.6.1)\n",
            "Requirement already satisfied: google-auth<2,>=1.6.3 in /usr/local/lib/python3.7/dist-packages (from tensorboard!=2.5.0,>=2.2.0->pytorch-lightning) (1.32.1)\n",
            "Requirement already satisfied: grpcio>=1.24.3 in /usr/local/lib/python3.7/dist-packages (from tensorboard!=2.5.0,>=2.2.0->pytorch-lightning) (1.34.1)\n",
            "Requirement already satisfied: tensorboard-plugin-wit>=1.6.0 in /usr/local/lib/python3.7/dist-packages (from tensorboard!=2.5.0,>=2.2.0->pytorch-lightning) (1.8.0)\n",
            "Requirement already satisfied: wheel>=0.26 in /usr/local/lib/python3.7/dist-packages (from tensorboard!=2.5.0,>=2.2.0->pytorch-lightning) (0.36.2)\n",
            "Requirement already satisfied: google-auth-oauthlib<0.5,>=0.4.1 in /usr/local/lib/python3.7/dist-packages (from tensorboard!=2.5.0,>=2.2.0->pytorch-lightning) (0.4.4)\n",
            "Requirement already satisfied: werkzeug>=0.11.15 in /usr/local/lib/python3.7/dist-packages (from tensorboard!=2.5.0,>=2.2.0->pytorch-lightning) (1.0.1)\n",
            "Requirement already satisfied: absl-py>=0.4 in /usr/local/lib/python3.7/dist-packages (from tensorboard!=2.5.0,>=2.2.0->pytorch-lightning) (0.12.0)\n",
            "Requirement already satisfied: markdown>=2.6.8 in /usr/local/lib/python3.7/dist-packages (from tensorboard!=2.5.0,>=2.2.0->pytorch-lightning) (3.3.4)\n",
            "Requirement already satisfied: setuptools>=41.0.0 in /usr/local/lib/python3.7/dist-packages (from tensorboard!=2.5.0,>=2.2.0->pytorch-lightning) (57.2.0)\n",
            "Requirement already satisfied: six in /usr/local/lib/python3.7/dist-packages (from absl-py>=0.4->tensorboard!=2.5.0,>=2.2.0->pytorch-lightning) (1.15.0)\n",
            "Requirement already satisfied: cachetools<5.0,>=2.0.0 in /usr/local/lib/python3.7/dist-packages (from google-auth<2,>=1.6.3->tensorboard!=2.5.0,>=2.2.0->pytorch-lightning) (4.2.2)\n",
            "Requirement already satisfied: pyasn1-modules>=0.2.1 in /usr/local/lib/python3.7/dist-packages (from google-auth<2,>=1.6.3->tensorboard!=2.5.0,>=2.2.0->pytorch-lightning) (0.2.8)\n",
            "Requirement already satisfied: rsa<5,>=3.1.4 in /usr/local/lib/python3.7/dist-packages (from google-auth<2,>=1.6.3->tensorboard!=2.5.0,>=2.2.0->pytorch-lightning) (4.7.2)\n",
            "Requirement already satisfied: requests-oauthlib>=0.7.0 in /usr/local/lib/python3.7/dist-packages (from google-auth-oauthlib<0.5,>=0.4.1->tensorboard!=2.5.0,>=2.2.0->pytorch-lightning) (1.3.0)\n",
            "Requirement already satisfied: importlib-metadata in /usr/local/lib/python3.7/dist-packages (from markdown>=2.6.8->tensorboard!=2.5.0,>=2.2.0->pytorch-lightning) (4.6.1)\n",
            "Requirement already satisfied: pyasn1<0.5.0,>=0.4.6 in /usr/local/lib/python3.7/dist-packages (from pyasn1-modules>=0.2.1->google-auth<2,>=1.6.3->tensorboard!=2.5.0,>=2.2.0->pytorch-lightning) (0.4.8)\n",
            "Requirement already satisfied: charset-normalizer~=2.0.0 in /usr/local/lib/python3.7/dist-packages (from requests->fsspec[http]!=2021.06.0,>=2021.05.0->pytorch-lightning) (2.0.2)\n",
            "Requirement already satisfied: certifi>=2017.4.17 in /usr/local/lib/python3.7/dist-packages (from requests->fsspec[http]!=2021.06.0,>=2021.05.0->pytorch-lightning) (2021.5.30)\n",
            "Requirement already satisfied: idna<4,>=2.5 in /usr/local/lib/python3.7/dist-packages (from requests->fsspec[http]!=2021.06.0,>=2021.05.0->pytorch-lightning) (2.10)\n",
            "Requirement already satisfied: urllib3<1.27,>=1.21.1 in /usr/local/lib/python3.7/dist-packages (from requests->fsspec[http]!=2021.06.0,>=2021.05.0->pytorch-lightning) (1.26.6)\n",
            "Requirement already satisfied: oauthlib>=3.0.0 in /usr/local/lib/python3.7/dist-packages (from requests-oauthlib>=0.7.0->google-auth-oauthlib<0.5,>=0.4.1->tensorboard!=2.5.0,>=2.2.0->pytorch-lightning) (3.1.1)\n",
            "Collecting yarl<2.0,>=1.0\n",
            "  Downloading yarl-1.6.3-cp37-cp37m-manylinux2014_x86_64.whl (294 kB)\n",
            "\u001b[K     |████████████████████████████████| 294 kB 51.2 MB/s \n",
            "\u001b[?25hRequirement already satisfied: chardet<5.0,>=2.0 in /usr/local/lib/python3.7/dist-packages (from aiohttp->fsspec[http]!=2021.06.0,>=2021.05.0->pytorch-lightning) (3.0.4)\n",
            "Collecting multidict<7.0,>=4.5\n",
            "  Downloading multidict-5.1.0-cp37-cp37m-manylinux2014_x86_64.whl (142 kB)\n",
            "\u001b[K     |████████████████████████████████| 142 kB 47.5 MB/s \n",
            "\u001b[?25hCollecting async-timeout<4.0,>=3.0\n",
            "  Downloading async_timeout-3.0.1-py3-none-any.whl (8.2 kB)\n",
            "Requirement already satisfied: attrs>=17.3.0 in /usr/local/lib/python3.7/dist-packages (from aiohttp->fsspec[http]!=2021.06.0,>=2021.05.0->pytorch-lightning) (21.2.0)\n",
            "Requirement already satisfied: zipp>=0.5 in /usr/local/lib/python3.7/dist-packages (from importlib-metadata->markdown>=2.6.8->tensorboard!=2.5.0,>=2.2.0->pytorch-lightning) (3.5.0)\n",
            "Building wheels for collected packages: future\n",
            "  Building wheel for future (setup.py) ... \u001b[?25l\u001b[?25hdone\n",
            "  Created wheel for future: filename=future-0.18.2-py3-none-any.whl size=491070 sha256=1654c1447b1a3da390111291a908f6387ddd08643fa8bd0ca5501deffe7033dd\n",
            "  Stored in directory: /root/.cache/pip/wheels/56/b0/fe/4410d17b32f1f0c3cf54cdfb2bc04d7b4b8f4ae377e2229ba0\n",
            "Successfully built future\n",
            "Installing collected packages: multidict, yarl, async-timeout, fsspec, aiohttp, torchmetrics, tensorboard, PyYAML, pyDeprecate, future, pytorch-lightning\n",
            "  Attempting uninstall: tensorboard\n",
            "    Found existing installation: tensorboard 2.5.0\n",
            "    Uninstalling tensorboard-2.5.0:\n",
            "      Successfully uninstalled tensorboard-2.5.0\n",
            "  Attempting uninstall: PyYAML\n",
            "    Found existing installation: PyYAML 3.13\n",
            "    Uninstalling PyYAML-3.13:\n",
            "      Successfully uninstalled PyYAML-3.13\n",
            "  Attempting uninstall: future\n",
            "    Found existing installation: future 0.16.0\n",
            "    Uninstalling future-0.16.0:\n",
            "      Successfully uninstalled future-0.16.0\n",
            "Successfully installed PyYAML-5.4.1 aiohttp-3.7.4.post0 async-timeout-3.0.1 fsspec-2021.7.0 future-0.18.2 multidict-5.1.0 pyDeprecate-0.3.1 pytorch-lightning-1.4.1 tensorboard-2.6.0 torchmetrics-0.4.1 yarl-1.6.3\n",
            "Collecting tensor-sensor[torch]\n",
            "  Downloading tensor-sensor-0.1.2.tar.gz (21 kB)\n",
            "Collecting graphviz>=0.14.1\n",
            "  Downloading graphviz-0.17-py3-none-any.whl (18 kB)\n",
            "Requirement already satisfied: numpy in /usr/local/lib/python3.7/dist-packages (from tensor-sensor[torch]) (1.19.5)\n",
            "Requirement already satisfied: IPython in /usr/local/lib/python3.7/dist-packages (from tensor-sensor[torch]) (5.5.0)\n",
            "Requirement already satisfied: matplotlib in /usr/local/lib/python3.7/dist-packages (from tensor-sensor[torch]) (3.2.2)\n",
            "Requirement already satisfied: torch in /usr/local/lib/python3.7/dist-packages (from tensor-sensor[torch]) (1.9.0+cu102)\n",
            "Requirement already satisfied: pygments in /usr/local/lib/python3.7/dist-packages (from IPython->tensor-sensor[torch]) (2.6.1)\n",
            "Requirement already satisfied: pexpect in /usr/local/lib/python3.7/dist-packages (from IPython->tensor-sensor[torch]) (4.8.0)\n",
            "Requirement already satisfied: pickleshare in /usr/local/lib/python3.7/dist-packages (from IPython->tensor-sensor[torch]) (0.7.5)\n",
            "Requirement already satisfied: simplegeneric>0.8 in /usr/local/lib/python3.7/dist-packages (from IPython->tensor-sensor[torch]) (0.8.1)\n",
            "Requirement already satisfied: setuptools>=18.5 in /usr/local/lib/python3.7/dist-packages (from IPython->tensor-sensor[torch]) (57.2.0)\n",
            "Requirement already satisfied: traitlets>=4.2 in /usr/local/lib/python3.7/dist-packages (from IPython->tensor-sensor[torch]) (5.0.5)\n",
            "Requirement already satisfied: decorator in /usr/local/lib/python3.7/dist-packages (from IPython->tensor-sensor[torch]) (4.4.2)\n",
            "Requirement already satisfied: prompt-toolkit<2.0.0,>=1.0.4 in /usr/local/lib/python3.7/dist-packages (from IPython->tensor-sensor[torch]) (1.0.18)\n",
            "Requirement already satisfied: six>=1.9.0 in /usr/local/lib/python3.7/dist-packages (from prompt-toolkit<2.0.0,>=1.0.4->IPython->tensor-sensor[torch]) (1.15.0)\n",
            "Requirement already satisfied: wcwidth in /usr/local/lib/python3.7/dist-packages (from prompt-toolkit<2.0.0,>=1.0.4->IPython->tensor-sensor[torch]) (0.2.5)\n",
            "Requirement already satisfied: ipython-genutils in /usr/local/lib/python3.7/dist-packages (from traitlets>=4.2->IPython->tensor-sensor[torch]) (0.2.0)\n",
            "Requirement already satisfied: kiwisolver>=1.0.1 in /usr/local/lib/python3.7/dist-packages (from matplotlib->tensor-sensor[torch]) (1.3.1)\n",
            "Requirement already satisfied: python-dateutil>=2.1 in /usr/local/lib/python3.7/dist-packages (from matplotlib->tensor-sensor[torch]) (2.8.1)\n",
            "Requirement already satisfied: pyparsing!=2.0.4,!=2.1.2,!=2.1.6,>=2.0.1 in /usr/local/lib/python3.7/dist-packages (from matplotlib->tensor-sensor[torch]) (2.4.7)\n",
            "Requirement already satisfied: cycler>=0.10 in /usr/local/lib/python3.7/dist-packages (from matplotlib->tensor-sensor[torch]) (0.10.0)\n",
            "Requirement already satisfied: ptyprocess>=0.5 in /usr/local/lib/python3.7/dist-packages (from pexpect->IPython->tensor-sensor[torch]) (0.7.0)\n",
            "Requirement already satisfied: typing-extensions in /usr/local/lib/python3.7/dist-packages (from torch->tensor-sensor[torch]) (3.7.4.3)\n",
            "Building wheels for collected packages: tensor-sensor\n",
            "  Building wheel for tensor-sensor (setup.py) ... \u001b[?25l\u001b[?25hdone\n",
            "  Created wheel for tensor-sensor: filename=tensor_sensor-0.1.2-py3-none-any.whl size=24320 sha256=8d89f5339e70aba0ad63fa75c2994030bdb100642696e4e381c5765ec51af59b\n",
            "  Stored in directory: /root/.cache/pip/wheels/31/09/96/a9dc167f3814ae564b2d12c60bc173c8027f0a54a7f421cea7\n",
            "Successfully built tensor-sensor\n",
            "Installing collected packages: graphviz, tensor-sensor\n",
            "  Attempting uninstall: graphviz\n",
            "    Found existing installation: graphviz 0.10.1\n",
            "    Uninstalling graphviz-0.10.1:\n",
            "      Successfully uninstalled graphviz-0.10.1\n",
            "Successfully installed graphviz-0.17 tensor-sensor-0.1.2\n"
          ],
          "name": "stdout"
        }
      ]
    },
    {
      "cell_type": "code",
      "metadata": {
        "id": "_uLkMAd4roOz"
      },
      "source": [
        "# IMPORTS\n",
        "import os, sys, random, datetime\n",
        "import pandas as pd\n",
        "# import modin.pandas as pd\n",
        "import numpy as np\n",
        "\n",
        "import torch\n",
        "import torch.optim as optim\n",
        "from torch.utils.data import DataLoader, Dataset\n",
        "from torch.nn.utils.rnn import *\n",
        "\n",
        "from pytorch_lightning.loggers import WandbLogger\n",
        "from pytorch_lightning.callbacks.early_stopping import EarlyStopping\n",
        "from pytorch_lightning.callbacks import ModelCheckpoint\n",
        "import pytorch_lightning as pl\n",
        "import torchmetrics\n",
        "from torchmetrics import Metric\n",
        "\n",
        "from sklearn.model_selection import train_test_split\n",
        "from sklearn import preprocessing\n",
        "from sklearn.metrics import accuracy_score\n",
        "\n",
        "from tqdm import tqdm, trange\n",
        "\n",
        "import wandb\n",
        "import tsensor"
      ],
      "execution_count": 4,
      "outputs": []
    },
    {
      "cell_type": "code",
      "metadata": {
        "colab": {
          "base_uri": "https://localhost:8080/",
          "height": 615
        },
        "id": "F6wzx1SMrsCB",
        "outputId": "f4c24a9c-e542-4b2a-885f-04869266f575"
      },
      "source": [
        "wandb.init(project=\"Optiver\",)"
      ],
      "execution_count": 5,
      "outputs": [
        {
          "output_type": "display_data",
          "data": {
            "application/javascript": [
              "\n",
              "        window._wandbApiKey = new Promise((resolve, reject) => {\n",
              "            function loadScript(url) {\n",
              "            return new Promise(function(resolve, reject) {\n",
              "                let newScript = document.createElement(\"script\");\n",
              "                newScript.onerror = reject;\n",
              "                newScript.onload = resolve;\n",
              "                document.body.appendChild(newScript);\n",
              "                newScript.src = url;\n",
              "            });\n",
              "            }\n",
              "            loadScript(\"https://cdn.jsdelivr.net/npm/postmate/build/postmate.min.js\").then(() => {\n",
              "            const iframe = document.createElement('iframe')\n",
              "            iframe.style.cssText = \"width:0;height:0;border:none\"\n",
              "            document.body.appendChild(iframe)\n",
              "            const handshake = new Postmate({\n",
              "                container: iframe,\n",
              "                url: 'https://wandb.ai/authorize'\n",
              "            });\n",
              "            const timeout = setTimeout(() => reject(\"Couldn't auto authenticate\"), 5000)\n",
              "            handshake.then(function(child) {\n",
              "                child.on('authorize', data => {\n",
              "                    clearTimeout(timeout)\n",
              "                    resolve(data)\n",
              "                });\n",
              "            });\n",
              "            })\n",
              "        });\n",
              "    "
            ],
            "text/plain": [
              "<IPython.core.display.Javascript object>"
            ]
          },
          "metadata": {
            "tags": []
          }
        },
        {
          "output_type": "stream",
          "text": [
            "\u001b[34m\u001b[1mwandb\u001b[0m: Appending key for api.wandb.ai to your netrc file: /root/.netrc\n"
          ],
          "name": "stderr"
        },
        {
          "output_type": "display_data",
          "data": {
            "text/html": [
              "\n",
              "                Tracking run with wandb version 0.11.2<br/>\n",
              "                Syncing run <strong style=\"color:#cdcd00\">morning-leaf-7</strong> to <a href=\"https://wandb.ai\" target=\"_blank\">Weights & Biases</a> <a href=\"https://docs.wandb.com/integrations/jupyter.html\" target=\"_blank\">(Documentation)</a>.<br/>\n",
              "                Project page: <a href=\"https://wandb.ai/philliphu/uncategorized\" target=\"_blank\">https://wandb.ai/philliphu/uncategorized</a><br/>\n",
              "                Run page: <a href=\"https://wandb.ai/philliphu/uncategorized/runs/33dgo293\" target=\"_blank\">https://wandb.ai/philliphu/uncategorized/runs/33dgo293</a><br/>\n",
              "                Run data is saved locally in <code>/content/wandb/run-20210807_092249-33dgo293</code><br/><br/>\n",
              "            "
            ],
            "text/plain": [
              "<IPython.core.display.HTML object>"
            ]
          },
          "metadata": {
            "tags": []
          }
        },
        {
          "output_type": "execute_result",
          "data": {
            "text/plain": [
              "<wandb.sdk.wandb_run.Run at 0x7f2e8e486d50>"
            ],
            "text/html": [
              "<h1>Run(33dgo293)</h1><iframe src=\"https://wandb.ai/philliphu/uncategorized/runs/33dgo293\" style=\"border:none;width:100%;height:400px\"></iframe>"
            ]
          },
          "metadata": {
            "tags": []
          },
          "execution_count": 5
        }
      ]
    },
    {
      "cell_type": "markdown",
      "metadata": {
        "id": "NclFCYnKrhXl"
      },
      "source": [
        "## 数据准备"
      ]
    },
    {
      "cell_type": "code",
      "metadata": {
        "id": "ENU45rEky8mP"
      },
      "source": [
        "# GLOBAL VARIABLES\n",
        "BASE_DIRECTORY = \"./optiver-realized-volatility-prediction\""
      ],
      "execution_count": 6,
      "outputs": []
    },
    {
      "cell_type": "code",
      "metadata": {
        "colab": {
          "base_uri": "https://localhost:8080/",
          "height": 204
        },
        "id": "hWBA02tppykB",
        "outputId": "ceb361f2-9171-4e42-e59f-c4710dd8395a"
      },
      "source": [
        "# Get training labels\n",
        "train_labels = pd.read_csv(os.path.join(BASE_DIRECTORY, 'csv','train.csv'))\n",
        "train_labels.head()"
      ],
      "execution_count": 7,
      "outputs": [
        {
          "output_type": "execute_result",
          "data": {
            "text/html": [
              "<div>\n",
              "<style scoped>\n",
              "    .dataframe tbody tr th:only-of-type {\n",
              "        vertical-align: middle;\n",
              "    }\n",
              "\n",
              "    .dataframe tbody tr th {\n",
              "        vertical-align: top;\n",
              "    }\n",
              "\n",
              "    .dataframe thead th {\n",
              "        text-align: right;\n",
              "    }\n",
              "</style>\n",
              "<table border=\"1\" class=\"dataframe\">\n",
              "  <thead>\n",
              "    <tr style=\"text-align: right;\">\n",
              "      <th></th>\n",
              "      <th>stock_id</th>\n",
              "      <th>time_id</th>\n",
              "      <th>target</th>\n",
              "    </tr>\n",
              "  </thead>\n",
              "  <tbody>\n",
              "    <tr>\n",
              "      <th>0</th>\n",
              "      <td>0</td>\n",
              "      <td>5</td>\n",
              "      <td>0.004136</td>\n",
              "    </tr>\n",
              "    <tr>\n",
              "      <th>1</th>\n",
              "      <td>0</td>\n",
              "      <td>11</td>\n",
              "      <td>0.001445</td>\n",
              "    </tr>\n",
              "    <tr>\n",
              "      <th>2</th>\n",
              "      <td>0</td>\n",
              "      <td>16</td>\n",
              "      <td>0.002168</td>\n",
              "    </tr>\n",
              "    <tr>\n",
              "      <th>3</th>\n",
              "      <td>0</td>\n",
              "      <td>31</td>\n",
              "      <td>0.002195</td>\n",
              "    </tr>\n",
              "    <tr>\n",
              "      <th>4</th>\n",
              "      <td>0</td>\n",
              "      <td>62</td>\n",
              "      <td>0.001747</td>\n",
              "    </tr>\n",
              "  </tbody>\n",
              "</table>\n",
              "</div>"
            ],
            "text/plain": [
              "   stock_id  time_id    target\n",
              "0         0        5  0.004136\n",
              "1         0       11  0.001445\n",
              "2         0       16  0.002168\n",
              "3         0       31  0.002195\n",
              "4         0       62  0.001747"
            ]
          },
          "metadata": {
            "tags": []
          },
          "execution_count": 7
        }
      ]
    },
    {
      "cell_type": "code",
      "metadata": {
        "id": "TDHlbRTN_zZ_"
      },
      "source": [
        "# 获得有效 id 列表\n",
        "id_list = []\n",
        "file_list = os.listdir(os.path.join(BASE_DIRECTORY, 'parquet'))\n",
        "for file in file_list:\n",
        "    if file.endswith('.parquet'):\n",
        "        id_list.append(int(file[:-8]))"
      ],
      "execution_count": 8,
      "outputs": []
    },
    {
      "cell_type": "code",
      "metadata": {
        "id": "C9cwR4Mg_Du6"
      },
      "source": [
        "# 划分训练验证集\n",
        "train_index, valid_index = train_test_split(id_list, test_size=0.3)"
      ],
      "execution_count": 9,
      "outputs": []
    },
    {
      "cell_type": "code",
      "metadata": {
        "colab": {
          "base_uri": "https://localhost:8080/"
        },
        "id": "ruIl0EFyrkmj",
        "outputId": "6a8bed56-10fe-4db5-f2b4-625482fd9dec"
      },
      "source": [
        "# Extract data\n",
        "\n",
        "train_list = []\n",
        "for id in tqdm(train_index):\n",
        "    if os.path.exists(os.path.join(BASE_DIRECTORY, 'parquet', f'{id}.parquet')):\n",
        "        t = pd.read_parquet(os.path.join(BASE_DIRECTORY, 'parquet', f'{id}.parquet'))\n",
        "        groups = t.groupby('time_id')\n",
        "        for g in groups:\n",
        "            if len(g[1]) != 600:\n",
        "                print(len(g[1]))\n",
        "            train_list.append(g[1].reset_index(drop=True))"
      ],
      "execution_count": 10,
      "outputs": [
        {
          "output_type": "stream",
          "text": [
            "100%|██████████| 78/78 [01:15<00:00,  1.03it/s]\n"
          ],
          "name": "stderr"
        }
      ]
    },
    {
      "cell_type": "code",
      "metadata": {
        "colab": {
          "base_uri": "https://localhost:8080/"
        },
        "id": "jkTpsktzpizI",
        "outputId": "fc5971ee-192f-4cc7-969a-9fb42dcd4a9e"
      },
      "source": [
        "valid_list = []\n",
        "for id in tqdm(valid_index):\n",
        "    if os.path.exists(os.path.join(BASE_DIRECTORY, 'parquet', f'{id}.parquet')):\n",
        "        t = pd.read_parquet(os.path.join(BASE_DIRECTORY, 'parquet', f'{id}.parquet'))\n",
        "        groups = t.groupby('time_id')\n",
        "        for g in groups:\n",
        "            valid_list.append(g[1].reset_index(drop=True))"
      ],
      "execution_count": 11,
      "outputs": [
        {
          "output_type": "stream",
          "text": [
            "100%|██████████| 34/34 [00:43<00:00,  1.28s/it]\n"
          ],
          "name": "stderr"
        }
      ]
    },
    {
      "cell_type": "code",
      "metadata": {
        "id": "-Rp0KfPaKb0l"
      },
      "source": [
        "BATCHSIZE = 512"
      ],
      "execution_count": 12,
      "outputs": []
    },
    {
      "cell_type": "code",
      "metadata": {
        "id": "s3NoZJrE4PS0"
      },
      "source": [
        "class MyDataset(Dataset):\n",
        "    def __init__(self, df_list):\n",
        "        self.df_list = df_list\n",
        "\n",
        "    def __len__(self):\n",
        "        return len(self.df_list)\n",
        "\n",
        "    def __getitem__(self, idx):\n",
        "        return self.df_list[idx]\n",
        "\n",
        "def my_collate(data):\n",
        "    x = [torch.from_numpy(df.drop(['stock_id', 'time_id', 'WAP'], axis=1).values).half() for df in data]\n",
        "    y = [train_labels[(train_labels.stock_id==df.stock_id[0]) & (train_labels.time_id==df.time_id[0])].iloc[0,2] for df in data]\n",
        "    return x, y"
      ],
      "execution_count": 13,
      "outputs": []
    },
    {
      "cell_type": "code",
      "metadata": {
        "id": "tuEnKrpRoJjw"
      },
      "source": [
        "train_dataset = MyDataset(train_list)\n",
        "train_loader = DataLoader(train_dataset, batch_size=BATCHSIZE, shuffle=True, collate_fn=my_collate, drop_last=True, num_workers=2)\n",
        "valid_dataset = MyDataset(valid_list)\n",
        "valid_loader = DataLoader(valid_dataset, batch_size=BATCHSIZE, collate_fn=my_collate, drop_last=True, num_workers=2)"
      ],
      "execution_count": 14,
      "outputs": []
    },
    {
      "cell_type": "markdown",
      "metadata": {
        "id": "tVvFiFLTSLc_"
      },
      "source": [
        "## Lightning Model"
      ]
    },
    {
      "cell_type": "code",
      "metadata": {
        "id": "14R6pX6XCEOM"
      },
      "source": [
        "class RMSPE(torch.nn.Module):\n",
        "    def __init__(self):\n",
        "        super(RMSPE, self).__init__()\n",
        "        return\n",
        "\n",
        "    def forward(self, z_pred, z_true):\n",
        "        loss = ((z_pred-z_true)/z_true).pow(2).mean().sqrt()\n",
        "        return loss"
      ],
      "execution_count": 15,
      "outputs": []
    },
    {
      "cell_type": "code",
      "metadata": {
        "id": "tY2ts3hbq3hr"
      },
      "source": [
        "class RMSPE(Metric):\n",
        "    def __init__(self, dist_sync_on_step=False):\n",
        "        super().__init__(dist_sync_on_step=dist_sync_on_step)\n",
        "\n",
        "        self.add_state('squared_error_rate', default=torch.Tensor([]), dist_reduce_fx='cat')\n",
        "\n",
        "    def update(self, preds: torch.Tensor, target: torch.Tensor):\n",
        "        assert preds.shape == target.shape\n",
        "\n",
        "        self.squared_error_rate = torch.cat([self.squared_error_rate, ((preds-target)/target).pow(2)])\n",
        "\n",
        "    def compute(self):\n",
        "        return self.squared_error_rate.mean().sqrt()"
      ],
      "execution_count": 29,
      "outputs": []
    },
    {
      "cell_type": "code",
      "metadata": {
        "id": "kasxilX_c_Db"
      },
      "source": [
        "class LitModel(pl.LightningModule):\n",
        "    def __init__(\n",
        "        self,\n",
        "        lstm_input_size,\n",
        "        lstm_hidden_size,\n",
        "        num_lstm_layers,\n",
        "        num_fc_features1,\n",
        "        num_fc_features2,\n",
        "        lr,\n",
        "    ):\n",
        "        super().__init__()\n",
        "\n",
        "        self.batch_size = batch_size\n",
        "\n",
        "        self.lstm = torch.nn.LSTM(\n",
        "            input_size=lstm_input_size,\n",
        "            hidden_size=lstm_hidden_size,\n",
        "            num_layers=num_lstm_layers,\n",
        "            batch_first=True,\n",
        "        )\n",
        "\n",
        "        self.lstm_output_size = lstm_hidden_size\n",
        "\n",
        "        # self.sigmoid = torch.nn.Sigmoid()\n",
        "\n",
        "        self.batch_norm = torch.nn.BatchNorm2d(9)\n",
        "\n",
        "        self.fc = torch.nn.Sequential(\n",
        "            torch.nn.Linear(\n",
        "                in_features=self.lstm_output_size, out_features=num_fc_features1\n",
        "            ),\n",
        "            # torch.nn.ReLU(),\n",
        "            torch.nn.Sigmoid(),\n",
        "            # torch.nn.Linear(\n",
        "            #     in_features=num_fc_features1, out_features=num_fc_features2\n",
        "            # ),\n",
        "            # torch.nn.ReLU(),\n",
        "            torch.nn.Linear(in_features=num_fc_features1, out_features=1),\n",
        "        )\n",
        "\n",
        "        self.loss = RMSPE()\n",
        "\n",
        "        self.lr = lr\n",
        "\n",
        "    # forward function of fc ################################################\n",
        "    def forward(self, xs):\n",
        "        temp_list = []\n",
        "        for x in xs:\n",
        "            temp_list.append(x.unsqueeze(0))\n",
        "        input = torch.cat(temp_list)\n",
        "        input = self.\n",
        "        out, (h_n, c_n) = self.lstm(input)\n",
        "        out = self.fc(h_n).squeeze()\n",
        "        return out\n",
        "\n",
        "    def training_step(self, batch, batch_idx):\n",
        "        xs, ys = batch\n",
        "        zs = self.forward(xs)\n",
        "        ys = torch.Tensor(ys).half().cuda()\n",
        "        loss = self.loss(zs, ys)\n",
        "        self.log(\"train/loss\", loss, on_epoch=True, on_step=True)\n",
        "\n",
        "        return loss\n",
        "\n",
        "    def validation_step(self, val_batch, batch_idx):\n",
        "        xs, ys = val_batch\n",
        "        zs = self.forward(xs)\n",
        "        ys = torch.Tensor(ys).half().cuda()\n",
        "        loss = self.loss(zs, ys)\n",
        "        self.log(\"valid/loss\", loss, on_epoch=True, on_step=True)\n",
        "\n",
        "        return loss\n",
        "\n",
        "    # def validation_epoch_end(self, validation_step_outputs):\n",
        "    #     flattened_logits = torch.flatten(torch.cat(validation_step_outputs))\n",
        "    #     self.logger.experiment.log(\n",
        "    #         {\n",
        "    #             \"valid/logits\": wandb.Histogram(flattened_logits.cpu()),\n",
        "    #             \"global_step\": self.global_step,\n",
        "    #         }\n",
        "    #     )\n",
        "\n",
        "    # def predict_step(self, pred_batch, batch_idx):\n",
        "    #     xs, ys = pred_batch\n",
        "    #     z = self.forward(xs)\n",
        "    #     return z, ys\n",
        "\n",
        "    def configure_optimizers(self):\n",
        "        optimizer = optim.Adam(self.parameters(), lr=self.lr)\n",
        "        return optimizer"
      ],
      "execution_count": 16,
      "outputs": []
    },
    {
      "cell_type": "markdown",
      "metadata": {
        "id": "6fFVOpiXNXef"
      },
      "source": [
        "## 训练"
      ]
    },
    {
      "cell_type": "code",
      "metadata": {
        "id": "clKYKkiKdiS-"
      },
      "source": [
        "wandb_logger = WandbLogger(\n",
        "    name=\"0.0\",\n",
        "    # tags=[],\n",
        "    version=\"0.0\",\n",
        "    notes = 'initial'\n",
        "    # save_code=True,\n",
        ")"
      ],
      "execution_count": 17,
      "outputs": []
    },
    {
      "cell_type": "code",
      "metadata": {
        "id": "UJa8kY5on9y2"
      },
      "source": [
        "model = LitModel(\n",
        "    lstm_input_size=9,\n",
        "    lstm_hidden_size=16,\n",
        "    num_lstm_layers=1,\n",
        "    num_fc_features1=32,\n",
        "    num_fc_features2=192,\n",
        "    lr=1e-4,\n",
        ")"
      ],
      "execution_count": 18,
      "outputs": []
    },
    {
      "cell_type": "code",
      "metadata": {
        "id": "s_ty6gYIHZUL",
        "colab": {
          "base_uri": "https://localhost:8080/",
          "height": 475,
          "referenced_widgets": [
            "60856010304342a8b617a4ddb954fe3b",
            "f2b96eaaee324881b1964fa67f13a1b8",
            "3a328f5f12ac413e925e8126a81a6eba",
            "76f9451b4efe4189b0eb068bd2d28843",
            "766c2d0fdff84391994f3b2be9b05d82",
            "b12b97656c584bdb895c409c93939ac0",
            "db6ae088d5e340bd948bc33d68f19799",
            "a5e4a27a1199487ab5e77aa59faedea5",
            "7176699bf74347dbaab4a942102c1e2b",
            "1cc7b7ebf4934806a4acda80c9292fc5",
            "9e5b3eba14424df2bd4b749d32e1d981",
            "de0b006f0de9404298f2fce2dbf6a0d7",
            "dcafd68645af4e89a9a4d5cf532c33c0",
            "3ad52facb40845df9559be8677ae706c",
            "968eae36c1344c95a2315f22ce1b6f8b",
            "eee16478a0f54338a6c951ff1bf25030",
            "7282746d33674bbb890f676246e02e81",
            "7c18dd35beea42d389098facfd57b006",
            "44cd31655bc84d998c2f1d81066300bf",
            "f902d87f85ce49189faef247ed489b76",
            "97809786d6024c3d86ef240afe82beb0",
            "40c20b993c71432abecb952c19fc7e7f",
            "786f57e61465443b82988f39b814ef84",
            "e39f180c3674452d947a57a00f9b48f8"
          ]
        },
        "outputId": "04a64b8d-3bd1-4d6b-a826-1f65460c3f99"
      },
      "source": [
        "trainer = pl.Trainer(\n",
        "    # callbacks=[\n",
        "    #     early_stop_callback,\n",
        "    #     checkpoint_callback,\n",
        "    # ],\n",
        "    gpus=-1,\n",
        "    logger=wandb_logger,\n",
        "    log_every_n_steps=10,\n",
        "    max_epochs=10,\n",
        "    deterministic=False,\n",
        "    precision=16,\n",
        "    default_root_dir='./drive/MyDrive/Colab Notebooks/checkpoints',\n",
        "    # val_check_interval=1,\n",
        "    auto_scale_batch_size='binsearch',\n",
        ")\n",
        "\n",
        "trainer.fit(model, train_loader, valid_loader)"
      ],
      "execution_count": 20,
      "outputs": [
        {
          "output_type": "stream",
          "text": [
            "Using native 16bit precision.\n",
            "GPU available: True, used: True\n",
            "TPU available: False, using: 0 TPU cores\n",
            "IPU available: False, using: 0 IPUs\n",
            "LOCAL_RANK: 0 - CUDA_VISIBLE_DEVICES: [0]\n",
            "\n",
            "  | Name | Type       | Params\n",
            "------------------------------------\n",
            "0 | lstm | LSTM       | 1.7 K \n",
            "1 | fc   | Sequential | 577   \n",
            "2 | loss | RMSPE      | 0     \n",
            "------------------------------------\n",
            "2.3 K     Trainable params\n",
            "0         Non-trainable params\n",
            "2.3 K     Total params\n",
            "0.009     Total estimated model params size (MB)\n"
          ],
          "name": "stderr"
        },
        {
          "output_type": "display_data",
          "data": {
            "application/vnd.jupyter.widget-view+json": {
              "model_id": "60856010304342a8b617a4ddb954fe3b",
              "version_minor": 0,
              "version_major": 2
            },
            "text/plain": [
              "HBox(children=(FloatProgress(value=1.0, bar_style='info', description='Validation sanity check', layout=Layout…"
            ]
          },
          "metadata": {
            "tags": []
          }
        },
        {
          "output_type": "stream",
          "text": [
            "/usr/local/lib/python3.7/dist-packages/pytorch_lightning/trainer/data_loading.py:106: UserWarning: The dataloader, val dataloader 0, does not have many workers which may be a bottleneck. Consider increasing the value of the `num_workers` argument` (try 4 which is the number of cpus on this machine) in the `DataLoader` init to improve performance.\n",
            "  f\"The dataloader, {name}, does not have many workers which may be a bottleneck.\"\n"
          ],
          "name": "stderr"
        },
        {
          "output_type": "stream",
          "text": [
            "\r"
          ],
          "name": "stdout"
        },
        {
          "output_type": "stream",
          "text": [
            "/usr/local/lib/python3.7/dist-packages/pytorch_lightning/trainer/data_loading.py:106: UserWarning: The dataloader, train dataloader, does not have many workers which may be a bottleneck. Consider increasing the value of the `num_workers` argument` (try 4 which is the number of cpus on this machine) in the `DataLoader` init to improve performance.\n",
            "  f\"The dataloader, {name}, does not have many workers which may be a bottleneck.\"\n"
          ],
          "name": "stderr"
        },
        {
          "output_type": "display_data",
          "data": {
            "application/vnd.jupyter.widget-view+json": {
              "model_id": "7176699bf74347dbaab4a942102c1e2b",
              "version_minor": 0,
              "version_major": 2
            },
            "text/plain": [
              "HBox(children=(FloatProgress(value=1.0, bar_style='info', description='Training', layout=Layout(flex='2'), max…"
            ]
          },
          "metadata": {
            "tags": []
          }
        },
        {
          "output_type": "display_data",
          "data": {
            "application/vnd.jupyter.widget-view+json": {
              "model_id": "7282746d33674bbb890f676246e02e81",
              "version_minor": 0,
              "version_major": 2
            },
            "text/plain": [
              "HBox(children=(FloatProgress(value=1.0, bar_style='info', description='Validating', layout=Layout(flex='2'), m…"
            ]
          },
          "metadata": {
            "tags": []
          }
        },
        {
          "output_type": "stream",
          "text": [
            "/usr/local/lib/python3.7/dist-packages/pytorch_lightning/trainer/trainer.py:1047: UserWarning: Detected KeyboardInterrupt, attempting graceful shutdown...\n",
            "  rank_zero_warn(\"Detected KeyboardInterrupt, attempting graceful shutdown...\")\n"
          ],
          "name": "stderr"
        }
      ]
    },
    {
      "cell_type": "code",
      "metadata": {
        "id": "kwUSxbTCJujD"
      },
      "source": [
        ""
      ],
      "execution_count": null,
      "outputs": []
    },
    {
      "cell_type": "code",
      "metadata": {
        "id": "k6f2tGlosU7_"
      },
      "source": [
        ""
      ],
      "execution_count": null,
      "outputs": []
    },
    {
      "cell_type": "code",
      "metadata": {
        "id": "DwEWc724uK7E"
      },
      "source": [
        ""
      ],
      "execution_count": null,
      "outputs": []
    }
  ]
}