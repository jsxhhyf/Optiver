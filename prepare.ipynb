{
  "nbformat": 4,
  "nbformat_minor": 0,
  "metadata": {
    "colab": {
      "name": "prepare.ipynb",
      "provenance": [],
      "collapsed_sections": [],
      "machine_shape": "hm",
      "mount_file_id": "1Lv_lMSDu2q3WrN_Bw7c5ALoVFk-4e41a",
      "authorship_tag": "ABX9TyPIo2+KT2+brGb/LuKSTExS",
      "include_colab_link": true
    },
    "kernelspec": {
      "name": "python3",
      "display_name": "Python 3"
    },
    "language_info": {
      "name": "python"
    },
    "accelerator": "GPU"
  },
  "cells": [
    {
      "cell_type": "markdown",
      "metadata": {
        "id": "view-in-github",
        "colab_type": "text"
      },
      "source": [
        "<a href=\"https://colab.research.google.com/github/jsxhhyf/Optiver/blob/main/prepare.ipynb\" target=\"_parent\"><img src=\"https://colab.research.google.com/assets/colab-badge.svg\" alt=\"Open In Colab\"/></a>"
      ]
    },
    {
      "cell_type": "markdown",
      "metadata": {
        "id": "aI0W5_R9Tjnx"
      },
      "source": [
        "## 环境配置"
      ]
    },
    {
      "cell_type": "code",
      "metadata": {
        "id": "gcLa3KBHpeNt"
      },
      "source": [
        "!mkdir -p ~/.kaggle\n",
        "!cp ./drive/MyDrive/Colab\\ Notebooks/Kaggle/kaggle.json ~/.kaggle/\n",
        "!chmod 600 ~/.kaggle/kaggle.json"
      ],
      "execution_count": null,
      "outputs": []
    },
    {
      "cell_type": "code",
      "metadata": {
        "id": "8nkooeBpyp1u"
      },
      "source": [
        "!unzip ./drive/MyDrive/Colab\\ Notebooks/Kaggle/optiver-realized-volatility-prediction/optiver-realized-volatility-prediction.zip"
      ],
      "execution_count": null,
      "outputs": []
    },
    {
      "cell_type": "code",
      "metadata": {
        "id": "T3pL72k8sfao"
      },
      "source": [
        "!mkdir -p ./optiver-realized-volatility-prediction/parquet\n",
        "# !cp ./drive/MyDrive/Colab\\ Notebooks/Kaggle/preprocessed/* ./optiver-realized-volatility-prediction/parquet"
      ],
      "execution_count": null,
      "outputs": []
    },
    {
      "cell_type": "code",
      "metadata": {
        "id": "6PeAgbeQXCkq"
      },
      "source": [
        "!pip install wandb\n",
        "!pip install pytorch-lightning\n",
        "!pip install tensor-sensor[torch]"
      ],
      "execution_count": null,
      "outputs": []
    },
    {
      "cell_type": "markdown",
      "metadata": {
        "id": "TFSedB28T1CS"
      },
      "source": [
        "## 导入数据"
      ]
    },
    {
      "cell_type": "code",
      "metadata": {
        "id": "CyUBuhW6uVoB"
      },
      "source": [
        "# IMPORTS\n",
        "import os, sys, random, datetime\n",
        "import pandas as pd\n",
        "# import modin.pandas as pd\n",
        "import numpy as np\n",
        "\n",
        "import torch\n",
        "import torch.optim as optim\n",
        "from torch.utils.data import DataLoader, Dataset\n",
        "from torch.nn.utils.rnn import *\n",
        "\n",
        "from pytorch_lightning.loggers import WandbLogger\n",
        "from pytorch_lightning.callbacks.early_stopping import EarlyStopping\n",
        "from pytorch_lightning.callbacks import ModelCheckpoint\n",
        "import pytorch_lightning as pl\n",
        "import torchmetrics\n",
        "\n",
        "from sklearn.model_selection import train_test_split\n",
        "from sklearn import preprocessing\n",
        "from sklearn.metrics import accuracy_score\n",
        "\n",
        "from tqdm import tqdm, trange\n",
        "\n",
        "import wandb"
      ],
      "execution_count": null,
      "outputs": []
    },
    {
      "cell_type": "code",
      "metadata": {
        "colab": {
          "base_uri": "https://localhost:8080/",
          "height": 102
        },
        "id": "-krcj05HCVcr",
        "outputId": "e056be90-3b1a-44e3-b4f2-df168a94d584"
      },
      "source": [
        "wandb.login()"
      ],
      "execution_count": null,
      "outputs": [
        {
          "output_type": "display_data",
          "data": {
            "application/javascript": [
              "\n",
              "        window._wandbApiKey = new Promise((resolve, reject) => {\n",
              "            function loadScript(url) {\n",
              "            return new Promise(function(resolve, reject) {\n",
              "                let newScript = document.createElement(\"script\");\n",
              "                newScript.onerror = reject;\n",
              "                newScript.onload = resolve;\n",
              "                document.body.appendChild(newScript);\n",
              "                newScript.src = url;\n",
              "            });\n",
              "            }\n",
              "            loadScript(\"https://cdn.jsdelivr.net/npm/postmate/build/postmate.min.js\").then(() => {\n",
              "            const iframe = document.createElement('iframe')\n",
              "            iframe.style.cssText = \"width:0;height:0;border:none\"\n",
              "            document.body.appendChild(iframe)\n",
              "            const handshake = new Postmate({\n",
              "                container: iframe,\n",
              "                url: 'https://wandb.ai/authorize'\n",
              "            });\n",
              "            const timeout = setTimeout(() => reject(\"Couldn't auto authenticate\"), 5000)\n",
              "            handshake.then(function(child) {\n",
              "                child.on('authorize', data => {\n",
              "                    clearTimeout(timeout)\n",
              "                    resolve(data)\n",
              "                });\n",
              "            });\n",
              "            })\n",
              "        });\n",
              "    "
            ],
            "text/plain": [
              "<IPython.core.display.Javascript object>"
            ]
          },
          "metadata": {
            "tags": []
          }
        },
        {
          "output_type": "stream",
          "text": [
            "\u001b[34m\u001b[1mwandb\u001b[0m: You can find your API key in your browser here: https://wandb.ai/authorize\n"
          ],
          "name": "stderr"
        },
        {
          "output_type": "stream",
          "text": [
            "wandb: Paste an API key from your profile and hit enter: ··········\n"
          ],
          "name": "stdout"
        },
        {
          "output_type": "stream",
          "text": [
            "\u001b[34m\u001b[1mwandb\u001b[0m: Appending key for api.wandb.ai to your netrc file: /root/.netrc\n"
          ],
          "name": "stderr"
        },
        {
          "output_type": "execute_result",
          "data": {
            "text/plain": [
              "True"
            ]
          },
          "metadata": {
            "tags": []
          },
          "execution_count": 8
        }
      ]
    },
    {
      "cell_type": "code",
      "metadata": {
        "id": "zU2P72n05PWj"
      },
      "source": [
        "# GLOBAL VARIABLES\n",
        "BASE_DIRECTORY = \"./optiver-realized-volatility-prediction\""
      ],
      "execution_count": null,
      "outputs": []
    },
    {
      "cell_type": "code",
      "metadata": {
        "id": "GoXGvjX0FyXa"
      },
      "source": [
        "def expand_to_600(df: \"dataframe\") -> \"dataframe\":\n",
        "    \"\"\"\n",
        "    :param: dataframe to be expanded\n",
        "    :return: expanded dataframe\n",
        "    \"\"\"\n",
        "    added_list = []\n",
        "    cur = -1\n",
        "    seconds_list = df.seconds_in_bucket.values\n",
        "    nparray = df.values\n",
        "\n",
        "    for i in range(600):\n",
        "        if i in seconds_list:\n",
        "            cur += 1\n",
        "        else:\n",
        "            temp = nparray[cur, :].copy()\n",
        "            temp[1] = i\n",
        "            temp = temp[np.newaxis, :]\n",
        "            added_list.append(temp)\n",
        "            \n",
        "    if added_list:\n",
        "        added_np = np.concatenate(added_list, axis=0)\n",
        "        df_new = pd.DataFrame(added_np, columns=df.columns)\n",
        "        df = pd.concat([df, df_new]).astype(np.float32)\n",
        "\n",
        "    return df"
      ],
      "execution_count": null,
      "outputs": []
    },
    {
      "cell_type": "code",
      "metadata": {
        "id": "2bRyEsEzKYmV"
      },
      "source": [
        "# book_train.parquet\n",
        "SUB_DIRECTORY = \"./book_train.parquet\"\n",
        "\n",
        "for id in tqdm(range(127)):\n",
        "    book_train_list = []\n",
        "    cur_path = os.path.join(SUB_DIRECTORY, f\"stock_id={id}\")\n",
        "    if os.path.exists(cur_path):\n",
        "        file = os.listdir(cur_path)[0]\n",
        "        temp_df = pd.read_parquet(os.path.join(cur_path, file))\n",
        "        temp_df[\"stock_id\"] = id\n",
        "        temp_df[\"WAP\"] = (\n",
        "            temp_df.bid_price1 * temp_df.ask_size1\n",
        "            + temp_df.ask_price1 * temp_df.bid_size1\n",
        "        ) / (temp_df.bid_size1 + temp_df.ask_size1)\n",
        "\n",
        "        groups = temp_df.groupby(\"time_id\")\n",
        "        for g in groups:\n",
        "            x = expand_to_600(g[1])\n",
        "            book_train_list.append(x)\n",
        "        pd.concat(book_train_list, axis=0).to_parquet(os.path.join(BASE_DIRECTORY, 'parquet', f'{id}.parquet'))"
      ],
      "execution_count": null,
      "outputs": []
    },
    {
      "cell_type": "code",
      "metadata": {
        "id": "QaDPYf6OR0Ew"
      },
      "source": [
        "!cp ./optiver-realized-volatility-prediction/parquet/* ./drive/MyDrive/Colab\\ Notebooks/Kaggle/preprocessed/"
      ],
      "execution_count": null,
      "outputs": []
    },
    {
      "cell_type": "code",
      "metadata": {
        "id": "gzHEcPkbR13P"
      },
      "source": [
        "!cp ./*.csv ./drive/MyDrive/Colab\\ Notebooks/Kaggle/preprocessed/"
      ],
      "execution_count": null,
      "outputs": []
    },
    {
      "cell_type": "code",
      "metadata": {
        "id": "U55raOoHR6W3"
      },
      "source": [
        ""
      ],
      "execution_count": null,
      "outputs": []
    },
    {
      "cell_type": "code",
      "metadata": {
        "id": "T95Ykls3UeN5"
      },
      "source": [
        ""
      ],
      "execution_count": null,
      "outputs": []
    },
    {
      "cell_type": "code",
      "metadata": {
        "id": "wNHHLVVkUppN"
      },
      "source": [
        ""
      ],
      "execution_count": null,
      "outputs": []
    },
    {
      "cell_type": "code",
      "metadata": {
        "id": "UMwcQaMQU1Z8"
      },
      "source": [
        ""
      ],
      "execution_count": null,
      "outputs": []
    },
    {
      "cell_type": "code",
      "metadata": {
        "id": "KsxbA4WCVD1L"
      },
      "source": [
        ""
      ],
      "execution_count": null,
      "outputs": []
    }
  ]
}